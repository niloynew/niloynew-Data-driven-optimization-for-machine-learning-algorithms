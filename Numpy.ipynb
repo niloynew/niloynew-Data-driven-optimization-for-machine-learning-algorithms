{
 "cells": [
  {
   "cell_type": "markdown",
   "metadata": {},
   "source": [
    "# DDO4MLA Seminar 2: NumPy Tutorial"
   ]
  },
  {
   "cell_type": "markdown",
   "metadata": {},
   "source": [
    "## Introduction"
   ]
  },
  {
   "cell_type": "markdown",
   "metadata": {
    "id": "FKzUBrB1_PC3"
   },
   "source": [
    "Welcome back to DDO4MLA. This is the second tutorial, and today, we would like to demonstrate how to work with NumPy.\n",
    "\n",
    "To study this tutorial, please execute all of the code cells and analyze the output.\n",
    "\n",
    "NumPy is a Python library that provides a convenient interface for handling arrays. It offers a feature known as vectorization, which enables applying operations to the entire array of values at once. This, of course, has a positive impact on the speed of computation.\n",
    "\n",
    "Moreover, NumPy utilizes less memory for array storage, has pre-built mathematical operations, and many other useful features.\n",
    "\n",
    "Therefore, one might ask why we need NumPy when we already have Python's built-in list class. The answer is that NumPy's advantages, including vectorization, make it a more efficient option for handling arrays.\n",
    "\n",
    "Now, let us import the NumPy package."
   ]
  },
  {
   "cell_type": "code",
   "execution_count": 1,
   "metadata": {
    "id": "bkE4hEE1u2hK"
   },
   "outputs": [],
   "source": [
    "import numpy as np"
   ]
  },
  {
   "cell_type": "markdown",
   "metadata": {
    "id": "G2yNjOI8Erz5"
   },
   "source": [
    "## Array creation"
   ]
  },
  {
   "cell_type": "markdown",
   "metadata": {
    "id": "isgoJUJ9Rj5u"
   },
   "source": [
    "The most important part of the package is the **ndarray** class, instances of which are a **n**-dimensional arrays.\n",
    "\n",
    "Let's create 3x3 two-dimensional array using the ndarray class, then print it"
   ]
  },
  {
   "cell_type": "code",
   "execution_count": 2,
   "metadata": {
    "colab": {
     "base_uri": "https://localhost:8080/"
    },
    "id": "jGRRMHGrGHSI",
    "outputId": "e7ff5cda-cc08-4e22-cacb-313b2527e628"
   },
   "outputs": [
    {
     "data": {
      "text/plain": [
       "array([[1, 2, 3],\n",
       "       [4, 5, 6],\n",
       "       [7, 8, 9]])"
      ]
     },
     "execution_count": 2,
     "metadata": {},
     "output_type": "execute_result"
    }
   ],
   "source": [
    "a = np.array([[1,2,3], [4,5,6], [7,8,9]])\n",
    "a"
   ]
  },
  {
   "cell_type": "markdown",
   "metadata": {
    "id": "I_UTI8dUGysg"
   },
   "source": [
    "Let's take a look at its shape. "
   ]
  },
  {
   "cell_type": "code",
   "execution_count": 3,
   "metadata": {
    "colab": {
     "base_uri": "https://localhost:8080/"
    },
    "id": "m0NgEKQcGrHF",
    "outputId": "4889dfe1-f5b9-4f71-be16-2e70a7b1a5f4"
   },
   "outputs": [
    {
     "data": {
      "text/plain": [
       "(3, 3)"
      ]
     },
     "execution_count": 3,
     "metadata": {},
     "output_type": "execute_result"
    }
   ],
   "source": [
    "a.shape"
   ]
  },
  {
   "cell_type": "markdown",
   "metadata": {
    "id": "rYmFRv1-Ny9w"
   },
   "source": [
    "Now let's create a three-dimensional array "
   ]
  },
  {
   "cell_type": "code",
   "execution_count": 4,
   "metadata": {
    "colab": {
     "base_uri": "https://localhost:8080/"
    },
    "id": "vTZQNAPXNms0",
    "outputId": "7a26e634-2f57-4345-9fb0-efccb925e6ae"
   },
   "outputs": [
    {
     "data": {
      "text/plain": [
       "array([[[ 1,  2,  3],\n",
       "        [ 4,  5,  6]],\n",
       "\n",
       "       [[ 7,  8,  9],\n",
       "        [10, 11, 12]]])"
      ]
     },
     "execution_count": 4,
     "metadata": {},
     "output_type": "execute_result"
    }
   ],
   "source": [
    "b = np.array([[[1,2,3],[4,5,6]], [[7,8,9],[10,11,12]]])\n",
    "b"
   ]
  },
  {
   "cell_type": "code",
   "execution_count": 5,
   "metadata": {
    "colab": {
     "base_uri": "https://localhost:8080/"
    },
    "id": "T12UpmcUO5Oc",
    "outputId": "0d890736-a74f-44f0-ccca-5fd184b9d600"
   },
   "outputs": [
    {
     "data": {
      "text/plain": [
       "(2, 2, 3)"
      ]
     },
     "execution_count": 5,
     "metadata": {},
     "output_type": "execute_result"
    }
   ],
   "source": [
    "b.shape"
   ]
  },
  {
   "cell_type": "markdown",
   "metadata": {
    "id": "tQtQqNWEPULE"
   },
   "source": [
    "As you can see, the dimension that corresponds to the depth is the first one."
   ]
  },
  {
   "cell_type": "markdown",
   "metadata": {
    "id": "Hbxsg1ioIJ4A"
   },
   "source": [
    "We can obtain the same array using **arange** and **reshape** methods. \n",
    "\n",
    "Method `arange(start,stop,step)` generates 1 dim array beginning with `start` value, ending with but not including `stop` value, with step = `step`. By default `step` = 1."
   ]
  },
  {
   "cell_type": "code",
   "execution_count": 6,
   "metadata": {
    "colab": {
     "base_uri": "https://localhost:8080/"
    },
    "id": "y3KtJ9n95DWk",
    "outputId": "92708c0a-e0a9-432e-d00e-67676df5697e"
   },
   "outputs": [
    {
     "data": {
      "text/plain": [
       "array([1, 3, 5, 7])"
      ]
     },
     "execution_count": 6,
     "metadata": {},
     "output_type": "execute_result"
    }
   ],
   "source": [
    "np.arange(1, 9, 2)"
   ]
  },
  {
   "cell_type": "markdown",
   "metadata": {
    "id": "iL90mqLs62Wl"
   },
   "source": [
    "Method `reshape(shape)` changes array shape, by flattening it to a row, and filling new array of given form `shape` with values from this row. \n",
    "So we can get our `a` and `b` arrays now, using these methods."
   ]
  },
  {
   "cell_type": "code",
   "execution_count": 7,
   "metadata": {
    "colab": {
     "base_uri": "https://localhost:8080/"
    },
    "id": "ZWX2nz4xIAR0",
    "outputId": "e04b9433-1bb4-49ad-8cbc-5bd7425c13c5"
   },
   "outputs": [
    {
     "data": {
      "text/plain": [
       "array([[1, 2, 3],\n",
       "       [4, 5, 6],\n",
       "       [7, 8, 9]])"
      ]
     },
     "execution_count": 7,
     "metadata": {},
     "output_type": "execute_result"
    }
   ],
   "source": [
    "a = np.arange(1,10).reshape((3,3))\n",
    "a"
   ]
  },
  {
   "cell_type": "code",
   "execution_count": 8,
   "metadata": {
    "colab": {
     "base_uri": "https://localhost:8080/"
    },
    "id": "njQdJ6bhO_tf",
    "outputId": "a1b327d5-1bcd-4986-84b0-35b1316cad69"
   },
   "outputs": [
    {
     "data": {
      "text/plain": [
       "array([[[ 1,  2,  3],\n",
       "        [ 4,  5,  6]],\n",
       "\n",
       "       [[ 7,  8,  9],\n",
       "        [10, 11, 12]]])"
      ]
     },
     "execution_count": 8,
     "metadata": {},
     "output_type": "execute_result"
    }
   ],
   "source": [
    "b = np.arange(1,13).reshape((2,2,3))\n",
    "b"
   ]
  },
  {
   "cell_type": "markdown",
   "metadata": {
    "id": "M1ii3Ff3LfFb"
   },
   "source": [
    "We also can create:\n",
    "*   identity matrix and its analogues\n",
    "\n",
    "\n"
   ]
  },
  {
   "cell_type": "code",
   "execution_count": 9,
   "metadata": {
    "colab": {
     "base_uri": "https://localhost:8080/"
    },
    "id": "i8lnyfx9MPM4",
    "outputId": "630a9743-486b-485d-8824-e2613e2b6f38"
   },
   "outputs": [
    {
     "data": {
      "text/plain": [
       "array([[1., 0., 0.],\n",
       "       [0., 1., 0.],\n",
       "       [0., 0., 1.]])"
      ]
     },
     "execution_count": 9,
     "metadata": {},
     "output_type": "execute_result"
    }
   ],
   "source": [
    "np.eye(3, 3)"
   ]
  },
  {
   "cell_type": "code",
   "execution_count": 10,
   "metadata": {
    "colab": {
     "base_uri": "https://localhost:8080/"
    },
    "id": "2-RqTRGPMhS1",
    "outputId": "5d936ffc-951a-40df-e930-52046e5c1f66"
   },
   "outputs": [
    {
     "data": {
      "text/plain": [
       "array([[0., 0., 0., 0.],\n",
       "       [1., 0., 0., 0.],\n",
       "       [0., 1., 0., 0.],\n",
       "       [0., 0., 1., 0.],\n",
       "       [0., 0., 0., 1.],\n",
       "       [0., 0., 0., 0.]])"
      ]
     },
     "execution_count": 10,
     "metadata": {},
     "output_type": "execute_result"
    }
   ],
   "source": [
    "np.eye(6, 4, k=-1)"
   ]
  },
  {
   "cell_type": "markdown",
   "metadata": {
    "id": "SJEK6nbo_v4C"
   },
   "source": [
    "- Diagonal matrix of a given sequence \n"
   ]
  },
  {
   "cell_type": "code",
   "execution_count": 11,
   "metadata": {
    "colab": {
     "base_uri": "https://localhost:8080/"
    },
    "id": "iMLRoGm3_tRW",
    "outputId": "dba69abb-07b0-4e9c-df74-027ada99688a"
   },
   "outputs": [
    {
     "data": {
      "text/plain": [
       "array([[1, 0, 0],\n",
       "       [0, 2, 0],\n",
       "       [0, 0, 3]])"
      ]
     },
     "execution_count": 11,
     "metadata": {},
     "output_type": "execute_result"
    }
   ],
   "source": [
    "np.diag((1, 2, 3))"
   ]
  },
  {
   "cell_type": "markdown",
   "metadata": {
    "id": "WNLGcxaK7G8T"
   },
   "source": [
    "- Diagonal of a given matrix"
   ]
  },
  {
   "cell_type": "code",
   "execution_count": 12,
   "metadata": {
    "colab": {
     "base_uri": "https://localhost:8080/"
    },
    "id": "sRudDkJTAC8l",
    "outputId": "f8ddafe3-7af8-4463-f442-9a987e727ef0"
   },
   "outputs": [
    {
     "data": {
      "text/plain": [
       "array([1, 5, 9])"
      ]
     },
     "execution_count": 12,
     "metadata": {},
     "output_type": "execute_result"
    }
   ],
   "source": [
    "np.diag(a)"
   ]
  },
  {
   "cell_type": "markdown",
   "metadata": {
    "id": "wu3kZR33LnfH"
   },
   "source": [
    "*   an array of given form filled with zeros\n"
   ]
  },
  {
   "cell_type": "code",
   "execution_count": 13,
   "metadata": {
    "colab": {
     "base_uri": "https://localhost:8080/"
    },
    "id": "PMkSJWaBMORp",
    "outputId": "a2707431-396c-4d6f-8424-cf373b4d5935"
   },
   "outputs": [
    {
     "data": {
      "text/plain": [
       "array([[0., 0., 0.],\n",
       "       [0., 0., 0.],\n",
       "       [0., 0., 0.]])"
      ]
     },
     "execution_count": 13,
     "metadata": {},
     "output_type": "execute_result"
    }
   ],
   "source": [
    "np.zeros((3,3))"
   ]
  },
  {
   "cell_type": "markdown",
   "metadata": {
    "id": "BYChsjAMMQEr"
   },
   "source": [
    "*   an array of given form filled with units"
   ]
  },
  {
   "cell_type": "code",
   "execution_count": 14,
   "metadata": {
    "colab": {
     "base_uri": "https://localhost:8080/"
    },
    "id": "bVdV1p2yLbwV",
    "outputId": "25646de1-d305-4ba0-d3c2-6f77e13de840"
   },
   "outputs": [
    {
     "data": {
      "text/plain": [
       "array([[1., 1., 1.],\n",
       "       [1., 1., 1.],\n",
       "       [1., 1., 1.]])"
      ]
     },
     "execution_count": 14,
     "metadata": {},
     "output_type": "execute_result"
    }
   ],
   "source": [
    "np.ones((3,3))"
   ]
  },
  {
   "cell_type": "markdown",
   "metadata": {
    "id": "HayM6SVxMS7S"
   },
   "source": [
    "*   an array of given form filled with a given value"
   ]
  },
  {
   "cell_type": "code",
   "execution_count": 15,
   "metadata": {
    "colab": {
     "base_uri": "https://localhost:8080/"
    },
    "id": "aJIbcDHJMUSz",
    "outputId": "7122afe1-badf-43b0-c5ca-9394c52662ec"
   },
   "outputs": [
    {
     "data": {
      "text/plain": [
       "array([[7, 7, 7],\n",
       "       [7, 7, 7],\n",
       "       [7, 7, 7]])"
      ]
     },
     "execution_count": 15,
     "metadata": {},
     "output_type": "execute_result"
    }
   ],
   "source": [
    "np.full((3,3), 7)"
   ]
  },
  {
   "cell_type": "markdown",
   "metadata": {
    "id": "kKDRYD8EQTh9"
   },
   "source": [
    "## Array indexing \n",
    "\n"
   ]
  },
  {
   "cell_type": "markdown",
   "metadata": {
    "id": "Izb0jDWPRTYM"
   },
   "source": [
    "Numpy uses a standard indexing method that works on subset selection. It has folowing syntax:\n",
    "\n",
    "`a[start:stop:step=1]`\n",
    "\n",
    "which means, that from array `a` will be selected subarray begining with `start` index, ending with but not including `stop` index, with step = `step` set by defaul to 1. \n",
    "\n",
    "i.e. `a[start]`, `a[start + step]`, `a[start + 2*step]`, ...\n",
    "\n",
    "The first index of any array is always `0` that's why using a single index for instance `a[2]` will actually call the 3rd element of the array. "
   ]
  },
  {
   "cell_type": "code",
   "execution_count": 16,
   "metadata": {
    "colab": {
     "base_uri": "https://localhost:8080/"
    },
    "id": "KSBbx21AWVqE",
    "outputId": "4357dcf1-6a7b-4b78-a334-dfbb16727b0a"
   },
   "outputs": [
    {
     "name": "stdout",
     "output_type": "stream",
     "text": [
      "Following array  [1 2 3 4 5 6 7 8 9] has\n",
      "the first element with index = 0 equal to 1\n",
      "the second element with index = 1 equal to 2\n",
      "the last element with index = 8 equal to 9\n"
     ]
    }
   ],
   "source": [
    "a = np.arange(1,10)\n",
    "print(\"Following array \", a, \"has\")\n",
    "print(\"the first element with index = 0 equal to\", a[0])\n",
    "print(\"the second element with index = 1 equal to\", a[1])\n",
    "print(\"the last element with index = 8 equal to\", a[8])"
   ]
  },
  {
   "cell_type": "markdown",
   "metadata": {
    "id": "a1XVKU9XWhWz"
   },
   "source": [
    "Consider the following example. Accroding to the indexing `0:3` the elements with indices `0`, `1` and `2` should be taken, i.e. the first three elements of the array. The element having index `3` is not included as it only indicates the boundary of the selection."
   ]
  },
  {
   "cell_type": "code",
   "execution_count": 17,
   "metadata": {
    "colab": {
     "base_uri": "https://localhost:8080/"
    },
    "id": "NO9cOqMkXh-K",
    "outputId": "f3b87723-85b1-4f23-ba8b-2f60afa706c6"
   },
   "outputs": [
    {
     "data": {
      "text/plain": [
       "array([1, 2, 3])"
      ]
     },
     "execution_count": 17,
     "metadata": {},
     "output_type": "execute_result"
    }
   ],
   "source": [
    "a[0:3]"
   ]
  },
  {
   "cell_type": "markdown",
   "metadata": {
    "id": "Rvu_c8rZY_IM"
   },
   "source": [
    "Now consider the indexing `0:4:2`. Since the step is equal to two the elements to be taken are `0` and `2`. The element with index `4` is not included by the same reason as in the previous example."
   ]
  },
  {
   "cell_type": "code",
   "execution_count": 18,
   "metadata": {
    "colab": {
     "base_uri": "https://localhost:8080/"
    },
    "id": "t0S7uj05Nff7",
    "outputId": "d436536e-fc26-47ec-a780-27483a13cc1a"
   },
   "outputs": [
    {
     "data": {
      "text/plain": [
       "array([1, 3])"
      ]
     },
     "execution_count": 18,
     "metadata": {},
     "output_type": "execute_result"
    }
   ],
   "source": [
    "a[0:4:2]"
   ]
  },
  {
   "cell_type": "markdown",
   "metadata": {
    "id": "WtNJ6CeWanLR"
   },
   "source": [
    "Let's see how it works with 2-dim array. \n"
   ]
  },
  {
   "cell_type": "code",
   "execution_count": 19,
   "metadata": {
    "colab": {
     "base_uri": "https://localhost:8080/"
    },
    "id": "ft8pP6e-Vs72",
    "outputId": "514971dc-15c4-4716-f764-24e1b71122f3"
   },
   "outputs": [
    {
     "data": {
      "text/plain": [
       "array([[1, 2, 3],\n",
       "       [4, 5, 6],\n",
       "       [7, 8, 9]])"
      ]
     },
     "execution_count": 19,
     "metadata": {},
     "output_type": "execute_result"
    }
   ],
   "source": [
    "b = np.arange(1,10).reshape((3,3))\n",
    "b"
   ]
  },
  {
   "cell_type": "code",
   "execution_count": 20,
   "metadata": {
    "colab": {
     "base_uri": "https://localhost:8080/"
    },
    "id": "dDBYTAlvdLnr",
    "outputId": "11735eba-6e92-4d23-fe3a-822b5834f1a1"
   },
   "outputs": [
    {
     "data": {
      "text/plain": [
       "1"
      ]
     },
     "execution_count": 20,
     "metadata": {},
     "output_type": "execute_result"
    }
   ],
   "source": [
    "b[0,0]"
   ]
  },
  {
   "cell_type": "code",
   "execution_count": 21,
   "metadata": {
    "colab": {
     "base_uri": "https://localhost:8080/"
    },
    "id": "xbzEARKTdagg",
    "outputId": "2fc78f8f-47f6-41ce-b1ab-7108654c778f"
   },
   "outputs": [
    {
     "data": {
      "text/plain": [
       "array([1, 2, 3])"
      ]
     },
     "execution_count": 21,
     "metadata": {},
     "output_type": "execute_result"
    }
   ],
   "source": [
    "b[0]"
   ]
  },
  {
   "cell_type": "code",
   "execution_count": 22,
   "metadata": {
    "colab": {
     "base_uri": "https://localhost:8080/"
    },
    "id": "Ap17Pu-xbzw5",
    "outputId": "f9ec8f79-7d02-46c0-c9b5-5a4a60b59eb7"
   },
   "outputs": [
    {
     "data": {
      "text/plain": [
       "array([1, 2, 3])"
      ]
     },
     "execution_count": 22,
     "metadata": {},
     "output_type": "execute_result"
    }
   ],
   "source": [
    "b[0,0:3]"
   ]
  },
  {
   "cell_type": "code",
   "execution_count": 23,
   "metadata": {
    "colab": {
     "base_uri": "https://localhost:8080/"
    },
    "id": "bRDSiN5Yc8gi",
    "outputId": "f34c872c-8048-4f49-f352-61d01e6facef"
   },
   "outputs": [
    {
     "data": {
      "text/plain": [
       "array([3, 6, 9])"
      ]
     },
     "execution_count": 23,
     "metadata": {},
     "output_type": "execute_result"
    }
   ],
   "source": [
    "b[0:3,2]"
   ]
  },
  {
   "cell_type": "markdown",
   "metadata": {
    "id": "dJI4iLHbjys1"
   },
   "source": [
    "We can use negative indices in order to obtain elements in the opposite direction, i.e., starting from the end."
   ]
  },
  {
   "cell_type": "code",
   "execution_count": 24,
   "metadata": {
    "colab": {
     "base_uri": "https://localhost:8080/"
    },
    "id": "dAwyoFYPiV2g",
    "outputId": "4c799607-2dd9-46e5-811a-daa818ab44c9"
   },
   "outputs": [
    {
     "data": {
      "text/plain": [
       "1"
      ]
     },
     "execution_count": 24,
     "metadata": {},
     "output_type": "execute_result"
    }
   ],
   "source": [
    "b[0,-3]"
   ]
  },
  {
   "cell_type": "code",
   "execution_count": 25,
   "metadata": {
    "colab": {
     "base_uri": "https://localhost:8080/"
    },
    "id": "P3y91LNVkZG3",
    "outputId": "c6deccd3-50de-4678-ab91-64471b0392cb"
   },
   "outputs": [
    {
     "data": {
      "text/plain": [
       "1"
      ]
     },
     "execution_count": 25,
     "metadata": {},
     "output_type": "execute_result"
    }
   ],
   "source": [
    "b[-3,0]"
   ]
  },
  {
   "cell_type": "markdown",
   "metadata": {
    "id": "rOLzJQiSh8U3"
   },
   "source": [
    "We can use `:`, in order to obtain all elements of the dimension, where we put `:`. "
   ]
  },
  {
   "cell_type": "code",
   "execution_count": 26,
   "metadata": {
    "colab": {
     "base_uri": "https://localhost:8080/"
    },
    "id": "rYPw3GUgdDU0",
    "outputId": "d448866d-09ad-4a37-9c11-cb12029b06b9"
   },
   "outputs": [
    {
     "data": {
      "text/plain": [
       "array([1, 2, 3])"
      ]
     },
     "execution_count": 26,
     "metadata": {},
     "output_type": "execute_result"
    }
   ],
   "source": [
    "b[0,:]"
   ]
  },
  {
   "cell_type": "code",
   "execution_count": 27,
   "metadata": {
    "colab": {
     "base_uri": "https://localhost:8080/"
    },
    "id": "oGoLXto9dcZe",
    "outputId": "a4693da8-59f6-45c3-b40a-9425f53edd43"
   },
   "outputs": [
    {
     "data": {
      "text/plain": [
       "array([3, 6, 9])"
      ]
     },
     "execution_count": 27,
     "metadata": {},
     "output_type": "execute_result"
    }
   ],
   "source": [
    "b[:,2]"
   ]
  },
  {
   "cell_type": "markdown",
   "metadata": {
    "id": "s09UmL19mClI"
   },
   "source": [
    "When indexing numpy array using `:` you have to remember one important thing: notations `b[:, 0:1]` and `b[:, 0]` return the same values of the array `b`, but the outputs will have different shapes."
   ]
  },
  {
   "cell_type": "code",
   "execution_count": 28,
   "metadata": {
    "colab": {
     "base_uri": "https://localhost:8080/"
    },
    "id": "KPIgDWa7oE1z",
    "outputId": "ce6ef6d4-a1df-4ba7-c4cb-9a855a1b397f"
   },
   "outputs": [
    {
     "name": "stdout",
     "output_type": "stream",
     "text": [
      "[1 2 3]\n",
      "(3,)\n"
     ]
    }
   ],
   "source": [
    "print(b[0, :])\n",
    "print(b[0, :].shape)"
   ]
  },
  {
   "cell_type": "code",
   "execution_count": 29,
   "metadata": {
    "colab": {
     "base_uri": "https://localhost:8080/"
    },
    "id": "2K0WXkkJnqki",
    "outputId": "d30cb3d8-31fe-4914-9f9a-3f2e6261e863"
   },
   "outputs": [
    {
     "name": "stdout",
     "output_type": "stream",
     "text": [
      "[[1 2 3]]\n",
      "(1, 3)\n"
     ]
    }
   ],
   "source": [
    "print(b[0:1, :])\n",
    "print(b[0:1, :].shape)"
   ]
  },
  {
   "cell_type": "markdown",
   "metadata": {
    "id": "6g6vzCJapa45"
   },
   "source": [
    "This means, that `b[0, :]` is a one-dimensional array, i.e., a row-vector, but `b[0:1, :]` is a two-dimensional array, i.e., a \n",
    "matrix with only one row. "
   ]
  },
  {
   "cell_type": "markdown",
   "metadata": {
    "id": "KVDXLMAFrEJm"
   },
   "source": [
    "## Operations with arrays"
   ]
  },
  {
   "cell_type": "markdown",
   "metadata": {
    "id": "cqXCj6nO2xlh"
   },
   "source": [
    "### Arithmetic and logical"
   ]
  },
  {
   "cell_type": "markdown",
   "metadata": {
    "id": "E3RDNwQfrteu"
   },
   "source": [
    "The basic arithmetic and logical operations on arrays perform **elementwise** operations,  i.e. operations on elements of arrays, that have the same **indices**. It also means, that arrays must have the same shape. So they are the same operators as for scalars:\n",
    "\n",
    "```\n",
    "+  Addition\n",
    "-  Subtraction\n",
    "*  Multiplication\n",
    "/  Float division \n",
    "// Floor division (remainder is removed)\n",
    "%  Modulus (returns remainder of devision)\n",
    "** Exponent (raises the first operand to a degree equal to the second operand)\n",
    "<  Greater than\n",
    "<= Less than or equal to\n",
    "== Equal to\n",
    ">= Greater than or equal to\n",
    ">  Less than\n",
    "!= Not equal to\n",
    "```\n"
   ]
  },
  {
   "cell_type": "code",
   "execution_count": 30,
   "metadata": {
    "colab": {
     "base_uri": "https://localhost:8080/"
    },
    "id": "YoQM4VE8pJOU",
    "outputId": "7e5a926e-876c-41be-d49e-53823d2a1023"
   },
   "outputs": [
    {
     "data": {
      "text/plain": [
       "array([1, 2, 3, 4, 5, 6, 7, 8, 9])"
      ]
     },
     "execution_count": 30,
     "metadata": {},
     "output_type": "execute_result"
    }
   ],
   "source": [
    "c = np.arange(1,10)\n",
    "c"
   ]
  },
  {
   "cell_type": "code",
   "execution_count": 31,
   "metadata": {
    "colab": {
     "base_uri": "https://localhost:8080/"
    },
    "id": "62Yzbx_qDHl4",
    "outputId": "62e8644c-6a8b-42eb-8da1-22f0d2be176c"
   },
   "outputs": [
    {
     "data": {
      "text/plain": [
       "array([2, 2, 2, 2, 2, 2, 2, 2, 2])"
      ]
     },
     "execution_count": 31,
     "metadata": {},
     "output_type": "execute_result"
    }
   ],
   "source": [
    "d = np.full(9, 2)\n",
    "d"
   ]
  },
  {
   "cell_type": "code",
   "execution_count": 32,
   "metadata": {
    "colab": {
     "base_uri": "https://localhost:8080/"
    },
    "id": "lUJF3rrjDHoi",
    "outputId": "f2018973-34d4-4ecf-91fc-472b2a65302d"
   },
   "outputs": [
    {
     "data": {
      "text/plain": [
       "array([ 3,  4,  5,  6,  7,  8,  9, 10, 11])"
      ]
     },
     "execution_count": 32,
     "metadata": {},
     "output_type": "execute_result"
    }
   ],
   "source": [
    "c + d"
   ]
  },
  {
   "cell_type": "code",
   "execution_count": 33,
   "metadata": {
    "colab": {
     "base_uri": "https://localhost:8080/"
    },
    "id": "bUgaruRX0RyC",
    "outputId": "07c7fdfb-42b7-4049-8842-8655c0e358f7"
   },
   "outputs": [
    {
     "data": {
      "text/plain": [
       "array([0, 1, 1, 2, 2, 3, 3, 4, 4])"
      ]
     },
     "execution_count": 33,
     "metadata": {},
     "output_type": "execute_result"
    }
   ],
   "source": [
    "c // d"
   ]
  },
  {
   "cell_type": "code",
   "execution_count": 34,
   "metadata": {
    "colab": {
     "base_uri": "https://localhost:8080/"
    },
    "id": "0rnUYUD00_3B",
    "outputId": "fc3b9aad-03c2-41b8-d313-563f3f6dce09"
   },
   "outputs": [
    {
     "data": {
      "text/plain": [
       "array([1, 0, 1, 0, 1, 0, 1, 0, 1])"
      ]
     },
     "execution_count": 34,
     "metadata": {},
     "output_type": "execute_result"
    }
   ],
   "source": [
    "c % d"
   ]
  },
  {
   "cell_type": "code",
   "execution_count": 35,
   "metadata": {
    "colab": {
     "base_uri": "https://localhost:8080/"
    },
    "id": "_7hP9oel1Edo",
    "outputId": "2e8bcc81-9130-4cac-af91-fbcbc24d029a"
   },
   "outputs": [
    {
     "data": {
      "text/plain": [
       "array([ 1,  4,  9, 16, 25, 36, 49, 64, 81])"
      ]
     },
     "execution_count": 35,
     "metadata": {},
     "output_type": "execute_result"
    }
   ],
   "source": [
    "c ** d"
   ]
  },
  {
   "cell_type": "code",
   "execution_count": 36,
   "metadata": {
    "colab": {
     "base_uri": "https://localhost:8080/"
    },
    "id": "ThtExATK1MiP",
    "outputId": "42ecce2a-3771-4f2e-e76f-9dc88f17f86c"
   },
   "outputs": [
    {
     "data": {
      "text/plain": [
       "array([ True,  True, False, False, False, False, False, False, False])"
      ]
     },
     "execution_count": 36,
     "metadata": {},
     "output_type": "execute_result"
    }
   ],
   "source": [
    "c <= d"
   ]
  },
  {
   "cell_type": "code",
   "execution_count": 37,
   "metadata": {
    "colab": {
     "base_uri": "https://localhost:8080/"
    },
    "id": "xAnN70R61aIi",
    "outputId": "c5a7e8ee-58e9-4694-90cf-9ebc8ad398cd"
   },
   "outputs": [
    {
     "data": {
      "text/plain": [
       "array([ True, False,  True,  True,  True,  True,  True,  True,  True])"
      ]
     },
     "execution_count": 37,
     "metadata": {},
     "output_type": "execute_result"
    }
   ],
   "source": [
    "c != d"
   ]
  },
  {
   "cell_type": "markdown",
   "metadata": {
    "id": "JUxzAvnhz7w5"
   },
   "source": [
    "If one of the operands specifies a number (scalar), resulting array will be of the same shape as the array operand. "
   ]
  },
  {
   "cell_type": "code",
   "execution_count": 38,
   "metadata": {
    "colab": {
     "base_uri": "https://localhost:8080/"
    },
    "id": "HQgbQC0Y1eBu",
    "outputId": "2a499688-d5d2-48d3-8f99-9326b89c4616"
   },
   "outputs": [
    {
     "data": {
      "text/plain": [
       "array([ 2,  4,  6,  8, 10, 12, 14, 16, 18])"
      ]
     },
     "execution_count": 38,
     "metadata": {},
     "output_type": "execute_result"
    }
   ],
   "source": [
    "2 * c"
   ]
  },
  {
   "cell_type": "code",
   "execution_count": 39,
   "metadata": {
    "colab": {
     "base_uri": "https://localhost:8080/"
    },
    "id": "LVel_c4P1jhm",
    "outputId": "4c2bda23-5e82-4c07-e186-adf8053b9447"
   },
   "outputs": [
    {
     "data": {
      "text/plain": [
       "array([False,  True,  True,  True,  True,  True,  True,  True,  True])"
      ]
     },
     "execution_count": 39,
     "metadata": {},
     "output_type": "execute_result"
    }
   ],
   "source": [
    "c != 1"
   ]
  },
  {
   "cell_type": "markdown",
   "metadata": {
    "id": "CwprxwyO2TF6"
   },
   "source": [
    "### ndarray methods"
   ]
  },
  {
   "cell_type": "markdown",
   "metadata": {
    "id": "QuAU-yzC21tJ"
   },
   "source": [
    "Now let's take a look at commonly used methods of ndarray class."
   ]
  },
  {
   "cell_type": "markdown",
   "metadata": {
    "id": "WVrI5LrP3thh"
   },
   "source": [
    "*   `array.flatten()`\n",
    "\n",
    "**Reshapes** the matrix into a vector\n"
   ]
  },
  {
   "cell_type": "code",
   "execution_count": 40,
   "metadata": {
    "colab": {
     "base_uri": "https://localhost:8080/"
    },
    "id": "QlFs3tCCQvkJ",
    "outputId": "4a380571-63f5-4691-eedb-13b1481a8149"
   },
   "outputs": [
    {
     "data": {
      "text/plain": [
       "array([[1, 2, 3],\n",
       "       [4, 5, 6],\n",
       "       [7, 8, 9]])"
      ]
     },
     "execution_count": 40,
     "metadata": {},
     "output_type": "execute_result"
    }
   ],
   "source": [
    "f = np.arange(1,10).reshape((3,3))\n",
    "f"
   ]
  },
  {
   "cell_type": "code",
   "execution_count": 41,
   "metadata": {
    "colab": {
     "base_uri": "https://localhost:8080/"
    },
    "id": "xtNe2pIP-aRg",
    "outputId": "7a73c478-cffd-4169-ab98-d044f0061322"
   },
   "outputs": [
    {
     "data": {
      "text/plain": [
       "array([1, 2, 3, 4, 5, 6, 7, 8, 9])"
      ]
     },
     "execution_count": 41,
     "metadata": {},
     "output_type": "execute_result"
    }
   ],
   "source": [
    "f.flatten()"
   ]
  },
  {
   "cell_type": "markdown",
   "metadata": {
    "id": "DaWpgCqF3uIV"
   },
   "source": [
    "*   `array.min(axis=None) `\n",
    "*   `array.max(axis=None)`\n",
    "*   `array.mean(axis=None)`\n",
    "*   `array.std(axis=None)`\n",
    "\n",
    "along given axis (axis = 0 - column-wise, axis = 1 - row-wise) return **minimum** and **maximum** values, arithmetic **mean** and **standard deviation**. If the axis is not set, the values will be found for the whole array."
   ]
  },
  {
   "cell_type": "code",
   "execution_count": 42,
   "metadata": {
    "colab": {
     "base_uri": "https://localhost:8080/"
    },
    "id": "onvD4a5HFMkj",
    "outputId": "12e06b5d-2ef3-4a2b-8566-e059bbf31af8"
   },
   "outputs": [
    {
     "data": {
      "text/plain": [
       "array([[1, 2, 3],\n",
       "       [4, 5, 6],\n",
       "       [7, 8, 9]])"
      ]
     },
     "execution_count": 42,
     "metadata": {},
     "output_type": "execute_result"
    }
   ],
   "source": [
    "f"
   ]
  },
  {
   "cell_type": "code",
   "execution_count": 43,
   "metadata": {
    "colab": {
     "base_uri": "https://localhost:8080/"
    },
    "id": "FcKb8LTFGjwE",
    "outputId": "aaa754d8-79fd-4c19-8c01-c4ed9ab83379"
   },
   "outputs": [
    {
     "data": {
      "text/plain": [
       "array([1, 2, 3])"
      ]
     },
     "execution_count": 43,
     "metadata": {},
     "output_type": "execute_result"
    }
   ],
   "source": [
    "f.min(axis=0)"
   ]
  },
  {
   "cell_type": "code",
   "execution_count": 44,
   "metadata": {
    "colab": {
     "base_uri": "https://localhost:8080/"
    },
    "id": "wJ2zZTA0GyJ5",
    "outputId": "48e27a2f-0ddf-49f1-8ec1-dac1e826dab0"
   },
   "outputs": [
    {
     "data": {
      "text/plain": [
       "array([1, 4, 7])"
      ]
     },
     "execution_count": 44,
     "metadata": {},
     "output_type": "execute_result"
    }
   ],
   "source": [
    "f.min(axis=1)"
   ]
  },
  {
   "cell_type": "code",
   "execution_count": 45,
   "metadata": {
    "colab": {
     "base_uri": "https://localhost:8080/"
    },
    "id": "J_jXpW0FG4Sz",
    "outputId": "140c7e1f-201b-4b28-beea-100bdee2d793"
   },
   "outputs": [
    {
     "data": {
      "text/plain": [
       "9"
      ]
     },
     "execution_count": 45,
     "metadata": {},
     "output_type": "execute_result"
    }
   ],
   "source": [
    "f.max()"
   ]
  },
  {
   "cell_type": "code",
   "execution_count": 46,
   "metadata": {
    "colab": {
     "base_uri": "https://localhost:8080/"
    },
    "id": "Hz7_pampG7Wm",
    "outputId": "1a203966-4256-4db5-e103-f8e0333ece00"
   },
   "outputs": [
    {
     "data": {
      "text/plain": [
       "array([4., 5., 6.])"
      ]
     },
     "execution_count": 46,
     "metadata": {},
     "output_type": "execute_result"
    }
   ],
   "source": [
    "f.mean(axis=0)"
   ]
  },
  {
   "cell_type": "code",
   "execution_count": 47,
   "metadata": {
    "colab": {
     "base_uri": "https://localhost:8080/"
    },
    "id": "-9jEs2C7H8K5",
    "outputId": "eb7b0f9a-9c65-49e1-dc61-4cc5f676274f"
   },
   "outputs": [
    {
     "data": {
      "text/plain": [
       "2.581988897471611"
      ]
     },
     "execution_count": 47,
     "metadata": {},
     "output_type": "execute_result"
    }
   ],
   "source": [
    "f.std()"
   ]
  },
  {
   "cell_type": "markdown",
   "metadata": {
    "id": "OmdB9rdl3ube"
   },
   "source": [
    "*   `array.argmin(axis=None)`\n",
    "*   `array.argmax(axis=None)`\n",
    "\n",
    "return the **indices of the maximum and minimum elements** in an array"
   ]
  },
  {
   "cell_type": "code",
   "execution_count": 48,
   "metadata": {
    "colab": {
     "base_uri": "https://localhost:8080/"
    },
    "id": "T-Y_HMihKQsu",
    "outputId": "fcdeb640-2eaa-42d3-892f-01ff593694f7"
   },
   "outputs": [
    {
     "data": {
      "text/plain": [
       "array([[1, 2, 3],\n",
       "       [4, 5, 6],\n",
       "       [7, 8, 9]])"
      ]
     },
     "execution_count": 48,
     "metadata": {},
     "output_type": "execute_result"
    }
   ],
   "source": [
    "f"
   ]
  },
  {
   "cell_type": "code",
   "execution_count": 49,
   "metadata": {
    "colab": {
     "base_uri": "https://localhost:8080/"
    },
    "id": "X3QqozyY1qMe",
    "outputId": "0bf8d456-92ba-40c4-f116-fb7e0476844d"
   },
   "outputs": [
    {
     "data": {
      "text/plain": [
       "0"
      ]
     },
     "execution_count": 49,
     "metadata": {},
     "output_type": "execute_result"
    }
   ],
   "source": [
    "f.argmin()"
   ]
  },
  {
   "cell_type": "code",
   "execution_count": 50,
   "metadata": {
    "colab": {
     "base_uri": "https://localhost:8080/"
    },
    "id": "NzAUKdudKr4z",
    "outputId": "60de6d21-61ca-4275-9133-27ada4c06dea"
   },
   "outputs": [
    {
     "data": {
      "text/plain": [
       "array([2, 2, 2], dtype=int64)"
      ]
     },
     "execution_count": 50,
     "metadata": {},
     "output_type": "execute_result"
    }
   ],
   "source": [
    "f.argmax(axis=0)"
   ]
  },
  {
   "cell_type": "markdown",
   "metadata": {
    "id": "KtoItf8HROBq"
   },
   "source": [
    "*   `np.sum(array, axis=None)`\n",
    "\n",
    "**Sum of elements** over given axis.\n",
    "\n",
    "If axis=None it finds the sum over whole array\n"
   ]
  },
  {
   "cell_type": "code",
   "execution_count": 51,
   "metadata": {
    "colab": {
     "base_uri": "https://localhost:8080/"
    },
    "id": "3P7SneflR6VI",
    "outputId": "33493f37-b107-4d5b-a0fd-98b1ec227abb"
   },
   "outputs": [
    {
     "data": {
      "text/plain": [
       "45"
      ]
     },
     "execution_count": 51,
     "metadata": {},
     "output_type": "execute_result"
    }
   ],
   "source": [
    "np.sum(f)"
   ]
  },
  {
   "cell_type": "code",
   "execution_count": 52,
   "metadata": {
    "colab": {
     "base_uri": "https://localhost:8080/"
    },
    "id": "AmdvRSNZSOiy",
    "outputId": "a45dcb85-2246-4691-bc67-64b3512afe87"
   },
   "outputs": [
    {
     "data": {
      "text/plain": [
       "array([12, 15, 18])"
      ]
     },
     "execution_count": 52,
     "metadata": {},
     "output_type": "execute_result"
    }
   ],
   "source": [
    "np.sum(f, axis=0)"
   ]
  },
  {
   "cell_type": "markdown",
   "metadata": {
    "id": "B_ofnTz1So2i"
   },
   "source": [
    "Here it's also important to know, that computed array has vector shape. "
   ]
  },
  {
   "cell_type": "code",
   "execution_count": 53,
   "metadata": {
    "colab": {
     "base_uri": "https://localhost:8080/"
    },
    "id": "yZKnsfW0SnlS",
    "outputId": "907079bf-3cf8-47f7-c77d-83447d96b382"
   },
   "outputs": [
    {
     "data": {
      "text/plain": [
       "(3,)"
      ]
     },
     "execution_count": 53,
     "metadata": {},
     "output_type": "execute_result"
    }
   ],
   "source": [
    "np.sum(f, axis=0).shape"
   ]
  },
  {
   "cell_type": "markdown",
   "metadata": {
    "id": "R7e-vWgaTDWW"
   },
   "source": [
    "In order to keep matrix shape, set parameter `keepdims` to `True`"
   ]
  },
  {
   "cell_type": "code",
   "execution_count": 54,
   "metadata": {
    "colab": {
     "base_uri": "https://localhost:8080/"
    },
    "id": "mnjRiMYaShXh",
    "outputId": "0d76f00a-5622-4c73-a810-339196b0b16f"
   },
   "outputs": [
    {
     "data": {
      "text/plain": [
       "(1, 3)"
      ]
     },
     "execution_count": 54,
     "metadata": {},
     "output_type": "execute_result"
    }
   ],
   "source": [
    "np.sum(f, axis=0, keepdims= True).shape"
   ]
  },
  {
   "cell_type": "markdown",
   "metadata": {
    "id": "xsPVUpIy3hb0"
   },
   "source": [
    "### Linear algebra"
   ]
  },
  {
   "cell_type": "markdown",
   "metadata": {
    "id": "_EQQxuH_PG8D"
   },
   "source": [
    "**Arrays transpose**\n",
    "\n",
    "*   `array.T` "
   ]
  },
  {
   "cell_type": "code",
   "execution_count": 55,
   "metadata": {
    "colab": {
     "base_uri": "https://localhost:8080/"
    },
    "id": "k1HOVevOPXA0",
    "outputId": "a889f41c-2196-49f3-b1ff-6ea859f69324"
   },
   "outputs": [
    {
     "data": {
      "text/plain": [
       "array([[1, 2, 3],\n",
       "       [4, 5, 6]])"
      ]
     },
     "execution_count": 55,
     "metadata": {},
     "output_type": "execute_result"
    }
   ],
   "source": [
    "h = np.arange(1,7).reshape(2,3)\n",
    "h"
   ]
  },
  {
   "cell_type": "code",
   "execution_count": 56,
   "metadata": {
    "colab": {
     "base_uri": "https://localhost:8080/"
    },
    "id": "9BWFrj3bQcqE",
    "outputId": "ca654a18-0ed7-4a51-eccd-636f9cc9707a"
   },
   "outputs": [
    {
     "data": {
      "text/plain": [
       "array([[1, 4],\n",
       "       [2, 5],\n",
       "       [3, 6]])"
      ]
     },
     "execution_count": 56,
     "metadata": {},
     "output_type": "execute_result"
    }
   ],
   "source": [
    "h.T"
   ]
  },
  {
   "cell_type": "markdown",
   "metadata": {
    "id": "CsGo_TYkTWQi"
   },
   "source": [
    "**Matrix norm**\n",
    "\n",
    "By default Frobenius norm for matrices and L2 norm for vectors. \n",
    "\n",
    "*   `linalg.norm(array, ord=None)`\n"
   ]
  },
  {
   "cell_type": "code",
   "execution_count": 57,
   "metadata": {
    "colab": {
     "base_uri": "https://localhost:8080/"
    },
    "id": "YUtmPWZ7SpzA",
    "outputId": "aeb706e2-080b-4392-c818-baf688bd5245"
   },
   "outputs": [
    {
     "data": {
      "text/plain": [
       "9.539392014169456"
      ]
     },
     "execution_count": 57,
     "metadata": {},
     "output_type": "execute_result"
    }
   ],
   "source": [
    "np.linalg.norm(h)"
   ]
  },
  {
   "cell_type": "markdown",
   "metadata": {
    "id": "7e6ImUkeMQSH"
   },
   "source": [
    "**Arrays multiplication**\n",
    "\n",
    "There are two options:\n",
    "\n",
    "1.   `array_1.dot(array_2)`\n",
    "\n",
    "`dot` allows to compute \n",
    "\n",
    "*   Multiplication by scalars\n",
    "*   Inner/scalar product of two vectros\n",
    "*   Product of matrix and vector\n",
    "*   Product of two matrices\n",
    "\n",
    "2.   `np.matmul(array_1, array_2)` or `array_1@arrays_2`\n",
    "\n",
    "`matmul` (@ operator) in comparison to `dot`\n",
    "\n",
    "*   doesn't allow to multiplicate by scalars\n",
    "*   if one of the array dimensions > 2, with other words if we have a tensor, it uses broadcasting to construct the answer. The resulting array will have lower dimensions, and accordingly it has smaller memory consumption. "
   ]
  },
  {
   "cell_type": "code",
   "execution_count": 58,
   "metadata": {
    "colab": {
     "base_uri": "https://localhost:8080/"
    },
    "id": "bkIpCcyYNQ1J",
    "outputId": "1d6de03b-3a4b-4b55-94f7-aff871c6ac6e"
   },
   "outputs": [
    {
     "data": {
      "text/plain": [
       "array([[ 7,  8,  9, 10],\n",
       "       [11, 12, 13, 14],\n",
       "       [15, 16, 17, 18]])"
      ]
     },
     "execution_count": 58,
     "metadata": {},
     "output_type": "execute_result"
    }
   ],
   "source": [
    "g = np.arange(7,19).reshape(3,4)\n",
    "g"
   ]
  },
  {
   "cell_type": "code",
   "execution_count": 59,
   "metadata": {
    "colab": {
     "base_uri": "https://localhost:8080/"
    },
    "id": "fa-9SebyNTiZ",
    "outputId": "ee075f0b-9437-41fa-8480-b4ca7e264a6b"
   },
   "outputs": [
    {
     "data": {
      "text/plain": [
       "array([[ 74,  80,  86,  92],\n",
       "       [173, 188, 203, 218]])"
      ]
     },
     "execution_count": 59,
     "metadata": {},
     "output_type": "execute_result"
    }
   ],
   "source": [
    "h.dot(g)"
   ]
  },
  {
   "cell_type": "code",
   "execution_count": 60,
   "metadata": {
    "colab": {
     "base_uri": "https://localhost:8080/"
    },
    "id": "JwkrDWIUiWff",
    "outputId": "53cf0b1a-a2dc-4102-8a33-0daea1453273"
   },
   "outputs": [
    {
     "data": {
      "text/plain": [
       "array([[14, 16, 18, 20],\n",
       "       [22, 24, 26, 28],\n",
       "       [30, 32, 34, 36]])"
      ]
     },
     "execution_count": 60,
     "metadata": {},
     "output_type": "execute_result"
    }
   ],
   "source": [
    "g.dot(2)"
   ]
  },
  {
   "cell_type": "code",
   "execution_count": 61,
   "metadata": {
    "colab": {
     "base_uri": "https://localhost:8080/"
    },
    "id": "JfN818nmnF7n",
    "outputId": "15603298-f65a-417d-9210-56e06a41e2ef"
   },
   "outputs": [
    {
     "data": {
      "text/plain": [
       "array([[ 74,  80,  86,  92],\n",
       "       [173, 188, 203, 218]])"
      ]
     },
     "execution_count": 61,
     "metadata": {},
     "output_type": "execute_result"
    }
   ],
   "source": [
    "h@g"
   ]
  },
  {
   "cell_type": "markdown",
   "metadata": {
    "id": "O2liJ09YOp3P"
   },
   "source": [
    "Array dimensions should meet the requirements of matrices multiplication: the number of columns of `array_1` must be equal to the number of rows of `array_2`. The following code thus produces an error."
   ]
  },
  {
   "cell_type": "code",
   "execution_count": 62,
   "metadata": {
    "colab": {
     "base_uri": "https://localhost:8080/",
     "height": 165
    },
    "id": "9hw722zbNYKx",
    "outputId": "ed044b70-d6a7-44ba-c2d3-5febb09ac39f"
   },
   "outputs": [
    {
     "ename": "ValueError",
     "evalue": "shapes (3,4) and (2,3) not aligned: 4 (dim 1) != 2 (dim 0)",
     "output_type": "error",
     "traceback": [
      "\u001b[1;31m---------------------------------------------------------------------------\u001b[0m",
      "\u001b[1;31mValueError\u001b[0m                                Traceback (most recent call last)",
      "Cell \u001b[1;32mIn[62], line 1\u001b[0m\n\u001b[1;32m----> 1\u001b[0m \u001b[43mg\u001b[49m\u001b[38;5;241;43m.\u001b[39;49m\u001b[43mdot\u001b[49m\u001b[43m(\u001b[49m\u001b[43mh\u001b[49m\u001b[43m)\u001b[49m\n",
      "\u001b[1;31mValueError\u001b[0m: shapes (3,4) and (2,3) not aligned: 4 (dim 1) != 2 (dim 0)"
     ]
    }
   ],
   "source": [
    "g.dot(h)"
   ]
  },
  {
   "cell_type": "markdown",
   "metadata": {
    "id": "c4hO_x64wfUs"
   },
   "source": [
    "**Rank of a matrix**\n",
    "*   `np.linalg.matrix_rank(array)`"
   ]
  },
  {
   "cell_type": "code",
   "execution_count": 63,
   "metadata": {
    "colab": {
     "base_uri": "https://localhost:8080/"
    },
    "id": "T2EZPEbtwo-Z",
    "outputId": "bd1df771-33bf-418a-c5ae-32095a0ee6d6"
   },
   "outputs": [
    {
     "data": {
      "text/plain": [
       "2"
      ]
     },
     "execution_count": 63,
     "metadata": {},
     "output_type": "execute_result"
    }
   ],
   "source": [
    "np.linalg.matrix_rank(h)"
   ]
  },
  {
   "cell_type": "markdown",
   "metadata": {
    "id": "zWFyu3lFsIvd"
   },
   "source": [
    "**Determinant of a matrix** \n",
    "\n",
    "*   `np.linalg.det(array)` \n"
   ]
  },
  {
   "cell_type": "code",
   "execution_count": 64,
   "metadata": {
    "colab": {
     "base_uri": "https://localhost:8080/"
    },
    "id": "NDPXn0vVuZBy",
    "outputId": "ee23888e-25e8-4c1b-8a04-de68e27a2f7f"
   },
   "outputs": [
    {
     "data": {
      "text/plain": [
       "array([[3, 4],\n",
       "       [2, 9]])"
      ]
     },
     "execution_count": 64,
     "metadata": {},
     "output_type": "execute_result"
    }
   ],
   "source": [
    "e = np.array([[3,4], [2,9]])\n",
    "e"
   ]
  },
  {
   "cell_type": "code",
   "execution_count": 65,
   "metadata": {
    "colab": {
     "base_uri": "https://localhost:8080/"
    },
    "id": "og1v2GUzslML",
    "outputId": "5b9fc78f-e00f-49d8-a7b7-5c43780db390"
   },
   "outputs": [
    {
     "data": {
      "text/plain": [
       "19.000000000000004"
      ]
     },
     "execution_count": 65,
     "metadata": {},
     "output_type": "execute_result"
    }
   ],
   "source": [
    "np.linalg.det(e)"
   ]
  },
  {
   "cell_type": "markdown",
   "metadata": {
    "id": "i-GDJ0Q9U0e7"
   },
   "source": [
    "**Inverse matrix**\n",
    "*   np.linalg.inv(array)\n",
    "\n",
    "The squared matrix is invertible if:\n",
    "*   rank = number of columns or rows\n",
    "*   **determinant** != 0"
   ]
  },
  {
   "cell_type": "code",
   "execution_count": 66,
   "metadata": {
    "colab": {
     "base_uri": "https://localhost:8080/"
    },
    "id": "zxqvLRmt0n_v",
    "outputId": "554204bb-d283-44d2-9f82-bf059c4a70dd"
   },
   "outputs": [
    {
     "data": {
      "text/plain": [
       "2"
      ]
     },
     "execution_count": 66,
     "metadata": {},
     "output_type": "execute_result"
    }
   ],
   "source": [
    "np.linalg.matrix_rank(e)"
   ]
  },
  {
   "cell_type": "code",
   "execution_count": 67,
   "metadata": {
    "colab": {
     "base_uri": "https://localhost:8080/"
    },
    "id": "D5fW9X2SVADY",
    "outputId": "f7268b24-4987-4682-fb58-5174577aedd3"
   },
   "outputs": [
    {
     "data": {
      "text/plain": [
       "array([[ 0.47368421, -0.21052632],\n",
       "       [-0.10526316,  0.15789474]])"
      ]
     },
     "execution_count": 67,
     "metadata": {},
     "output_type": "execute_result"
    }
   ],
   "source": [
    "np.linalg.inv(e)"
   ]
  },
  {
   "cell_type": "code",
   "execution_count": 68,
   "metadata": {
    "colab": {
     "base_uri": "https://localhost:8080/"
    },
    "id": "e3BodVDuNb3L",
    "outputId": "fb4c7503-29f1-4f73-c176-de7eb6e4cd37"
   },
   "outputs": [
    {
     "data": {
      "text/plain": [
       "array([[0, 1, 2],\n",
       "       [3, 4, 5],\n",
       "       [6, 7, 8]])"
      ]
     },
     "execution_count": 68,
     "metadata": {},
     "output_type": "execute_result"
    }
   ],
   "source": [
    "j = np.arange(9).reshape((3,3))\n",
    "j"
   ]
  },
  {
   "cell_type": "code",
   "execution_count": 69,
   "metadata": {
    "colab": {
     "base_uri": "https://localhost:8080/"
    },
    "id": "QvCc3Dbax0rT",
    "outputId": "ba7c4a3d-b4c0-47ca-ad09-a097bab3cd92"
   },
   "outputs": [
    {
     "data": {
      "text/plain": [
       "0.0"
      ]
     },
     "execution_count": 69,
     "metadata": {},
     "output_type": "execute_result"
    }
   ],
   "source": [
    "np.linalg.det(j)"
   ]
  },
  {
   "cell_type": "markdown",
   "metadata": {},
   "source": [
    "The following code produces an error as the matrix determinant is zero meaning the matrix is not invertible."
   ]
  },
  {
   "cell_type": "code",
   "execution_count": 70,
   "metadata": {
    "colab": {
     "base_uri": "https://localhost:8080/",
     "height": 345
    },
    "id": "pKf_GXluWIvG",
    "outputId": "74f9d7a3-ce36-47b0-c326-0233b31d700f"
   },
   "outputs": [
    {
     "ename": "LinAlgError",
     "evalue": "Singular matrix",
     "output_type": "error",
     "traceback": [
      "\u001b[1;31m---------------------------------------------------------------------------\u001b[0m",
      "\u001b[1;31mLinAlgError\u001b[0m                               Traceback (most recent call last)",
      "Cell \u001b[1;32mIn[70], line 1\u001b[0m\n\u001b[1;32m----> 1\u001b[0m \u001b[43mnp\u001b[49m\u001b[38;5;241;43m.\u001b[39;49m\u001b[43mlinalg\u001b[49m\u001b[38;5;241;43m.\u001b[39;49m\u001b[43minv\u001b[49m\u001b[43m(\u001b[49m\u001b[43mj\u001b[49m\u001b[43m)\u001b[49m\n",
      "File \u001b[1;32m<__array_function__ internals>:200\u001b[0m, in \u001b[0;36minv\u001b[1;34m(*args, **kwargs)\u001b[0m\n",
      "File \u001b[1;32m~\\anaconda3\\envs\\ddo4mla\\lib\\site-packages\\numpy\\linalg\\linalg.py:538\u001b[0m, in \u001b[0;36minv\u001b[1;34m(a)\u001b[0m\n\u001b[0;32m    536\u001b[0m signature \u001b[38;5;241m=\u001b[39m \u001b[38;5;124m'\u001b[39m\u001b[38;5;124mD->D\u001b[39m\u001b[38;5;124m'\u001b[39m \u001b[38;5;28;01mif\u001b[39;00m isComplexType(t) \u001b[38;5;28;01melse\u001b[39;00m \u001b[38;5;124m'\u001b[39m\u001b[38;5;124md->d\u001b[39m\u001b[38;5;124m'\u001b[39m\n\u001b[0;32m    537\u001b[0m extobj \u001b[38;5;241m=\u001b[39m get_linalg_error_extobj(_raise_linalgerror_singular)\n\u001b[1;32m--> 538\u001b[0m ainv \u001b[38;5;241m=\u001b[39m \u001b[43m_umath_linalg\u001b[49m\u001b[38;5;241;43m.\u001b[39;49m\u001b[43minv\u001b[49m\u001b[43m(\u001b[49m\u001b[43ma\u001b[49m\u001b[43m,\u001b[49m\u001b[43m \u001b[49m\u001b[43msignature\u001b[49m\u001b[38;5;241;43m=\u001b[39;49m\u001b[43msignature\u001b[49m\u001b[43m,\u001b[49m\u001b[43m \u001b[49m\u001b[43mextobj\u001b[49m\u001b[38;5;241;43m=\u001b[39;49m\u001b[43mextobj\u001b[49m\u001b[43m)\u001b[49m\n\u001b[0;32m    539\u001b[0m \u001b[38;5;28;01mreturn\u001b[39;00m wrap(ainv\u001b[38;5;241m.\u001b[39mastype(result_t, copy\u001b[38;5;241m=\u001b[39m\u001b[38;5;28;01mFalse\u001b[39;00m))\n",
      "File \u001b[1;32m~\\anaconda3\\envs\\ddo4mla\\lib\\site-packages\\numpy\\linalg\\linalg.py:89\u001b[0m, in \u001b[0;36m_raise_linalgerror_singular\u001b[1;34m(err, flag)\u001b[0m\n\u001b[0;32m     88\u001b[0m \u001b[38;5;28;01mdef\u001b[39;00m \u001b[38;5;21m_raise_linalgerror_singular\u001b[39m(err, flag):\n\u001b[1;32m---> 89\u001b[0m     \u001b[38;5;28;01mraise\u001b[39;00m LinAlgError(\u001b[38;5;124m\"\u001b[39m\u001b[38;5;124mSingular matrix\u001b[39m\u001b[38;5;124m\"\u001b[39m)\n",
      "\u001b[1;31mLinAlgError\u001b[0m: Singular matrix"
     ]
    }
   ],
   "source": [
    "np.linalg.inv(j)"
   ]
  },
  {
   "cell_type": "markdown",
   "metadata": {
    "id": "0THA2Q2i5lpY"
   },
   "source": [
    "**Eigenvalues and Eigenvector**:\n",
    "\n",
    "*   Eigenvalues and right eigenvectors of a square array `np.linalg.eig(array)`\n",
    "*   Eigenvalues of a non-symmetric array `np.linalg.eigvals(array)`\n",
    "*   Eigenvalues and eigenvectors of a real symmetric or complex Hermitian (conjugate symmetric) array. `np.linalg.eigh(array)`\n",
    "*   Eigenvalues of a real symmetric or complex Hermitian (conjugate symmetric) array `np.linalg.eigvalsh(array)`\n"
   ]
  },
  {
   "cell_type": "code",
   "execution_count": 71,
   "metadata": {
    "colab": {
     "base_uri": "https://localhost:8080/"
    },
    "id": "OmG3pNoDG5PZ",
    "outputId": "2af1d976-c62c-43b8-af1e-23804480f2f4"
   },
   "outputs": [
    {
     "name": "stdout",
     "output_type": "stream",
     "text": [
      "[ 1.33484692e+01 -1.34846923e+00 -2.48477279e-16]\n",
      "[[ 0.16476382  0.79969966  0.40824829]\n",
      " [ 0.50577448  0.10420579 -0.81649658]\n",
      " [ 0.84678513 -0.59128809  0.40824829]]\n"
     ]
    }
   ],
   "source": [
    "lambd, v = np.linalg.eig(j)\n",
    "print(lambd)\n",
    "print(v)"
   ]
  },
  {
   "cell_type": "markdown",
   "metadata": {
    "id": "CU6ZIEPXLfnP"
   },
   "source": [
    "Each element of the eigenvalues vectors `lambd` is an eigenvalue. Each column of the eigenvector matrix `v` is an eigenvector. The first eigenvalue `lambd[0]` **corresponds** to the first **eigenvector** `v[:,0]` and so on. \n",
    "\n",
    "As you can see, the last eigenvalue is close to zero, thus, there are only two linearly independent eigenvectors that can be used as basis vectors."
   ]
  },
  {
   "cell_type": "markdown",
   "metadata": {
    "id": "P2xl1GhWHZgf"
   },
   "source": [
    "Let's check **whether** they are indeed eigenvalues and right eigenvectors. The eigenvalue equation is:\n",
    "$$Av=\\lambda v$$\n",
    "\n",
    "Where $A$ is a square matrix, $v$ is an eigenvector, and $\\lambda$ is a corresponding eigenvalue. Let's take the first eigenvalue and corresponding eigenvector and then compute the left hand side and the right hand side of the equation above."
   ]
  },
  {
   "cell_type": "code",
   "execution_count": 72,
   "metadata": {
    "colab": {
     "base_uri": "https://localhost:8080/"
    },
    "id": "x3heIa1xHGWy",
    "outputId": "e09fce5e-ed8d-46e9-f7df-cedd0b33e03e"
   },
   "outputs": [
    {
     "data": {
      "text/plain": [
       "array([ 2.19934474,  6.75131503, 11.30328531])"
      ]
     },
     "execution_count": 72,
     "metadata": {},
     "output_type": "execute_result"
    }
   ],
   "source": [
    "j.dot(v[:,0])"
   ]
  },
  {
   "cell_type": "code",
   "execution_count": 73,
   "metadata": {
    "colab": {
     "base_uri": "https://localhost:8080/"
    },
    "id": "y9X2y7I5NJlD",
    "outputId": "775b2d48-a742-41c9-8144-f9fdbf623c5c"
   },
   "outputs": [
    {
     "data": {
      "text/plain": [
       "array([ 2.19934474,  6.75131503, 11.30328531])"
      ]
     },
     "execution_count": 73,
     "metadata": {},
     "output_type": "execute_result"
    }
   ],
   "source": [
    "lambd[0]*(v[:,0])"
   ]
  },
  {
   "cell_type": "markdown",
   "metadata": {
    "id": "fHQYCqtuOBJO"
   },
   "source": [
    "As you can see they are equal meaning that the given vector is indeed an eigenvector of the given matrix."
   ]
  },
  {
   "cell_type": "markdown",
   "metadata": {
    "id": "AcBDFEitOssT"
   },
   "source": [
    "**Power**\n",
    "\n",
    "raises matrix `array` to a degree = `degree`\n",
    "\n",
    "*   `np.linalg.matrix_power(array, degree)`\n"
   ]
  },
  {
   "cell_type": "code",
   "execution_count": 74,
   "metadata": {
    "colab": {
     "base_uri": "https://localhost:8080/"
    },
    "id": "DLM5RurqNlz5",
    "outputId": "1e0387f4-37bb-4fb5-d72d-8c9476f0280f"
   },
   "outputs": [
    {
     "data": {
      "text/plain": [
       "array([[ 15,  18,  21],\n",
       "       [ 42,  54,  66],\n",
       "       [ 69,  90, 111]])"
      ]
     },
     "execution_count": 74,
     "metadata": {},
     "output_type": "execute_result"
    }
   ],
   "source": [
    "np.linalg.matrix_power(j, 2)"
   ]
  },
  {
   "cell_type": "markdown",
   "metadata": {
    "id": "ytgfHuWgbPOQ"
   },
   "source": [
    "## Exercises"
   ]
  },
  {
   "cell_type": "markdown",
   "metadata": {
    "id": "ctb0X82QcX-0"
   },
   "source": [
    "Let's try to create our own neurons using NumPy.\n",
    "\n",
    "Mathmatical description, inputs, weights, bias and output are given. You need to implement neurons in `#ToDo` sections of the template and get the same output as given. "
   ]
  },
  {
   "cell_type": "markdown",
   "metadata": {
    "id": "nLDhcr2oxm9N"
   },
   "source": [
    "**Perceptron** \n",
    "\n",
    "$$ f(x,w,b)= \\begin{cases} 1, \\space w \\cdot x + b > 0\\\\ 0, \\space w \\cdot x + b  \\leqslant 0\\\\ \\end{cases}$$\n",
    "\n",
    "- $f(x,w,b)$ - activation function\n",
    "- $x$ - inputs\n",
    "- $w$ - weights\n",
    "- $b$ - bias\n",
    "- $ w \\cdot x$ is inner/scalar product of $w$ and $x$\n",
    "\n",
    "`x = (1.0, 1.0, 0.0, 1.0, 0.0, 1.0, 0.0, 0.0, 1.0, 0.0)`\n",
    "\n",
    "`w = (0.87372833, 0.06451616, 0.15985972, 0.1768228 , 0.98192245, 0.99451061, 0.05185616, 0.4042013 , 0.28719303, 0.57638355)`\n",
    "\n",
    "`b1 = - 2.39`, output: `f = 1` \n",
    "\n",
    "\n",
    "\n",
    "`b2 = - 2.40`, output: `f = 0` \n",
    "\n",
    "The solution must satisfy both biases \n"
   ]
  },
  {
   "cell_type": "code",
   "execution_count": 75,
   "metadata": {
    "id": "K2uzwaZ6bfoY"
   },
   "outputs": [],
   "source": [
    "import numpy as np\n",
    "x = np.array([1.0, 1.0, 0.0, 1.0, 0.0, 1.0, 0.0, 0.0, 1.0, 0.0])\n",
    "w = np.array([0.87372833, 0.06451616, 0.15985972, 0.1768228 , 0.98192245, 0.99451061, 0.05185616, 0.4042013 , 0.28719303, 0.57638355])\n",
    "b1 = - 2.39 # output: f = 1\n",
    "b2 = - 2.40 # output: f = 0"
   ]
  },
  {
   "cell_type": "markdown",
   "metadata": {},
   "source": [
    "Complete the cell below by writing the code computing the perceptron's output."
   ]
  },
  {
   "cell_type": "code",
   "execution_count": 76,
   "metadata": {
    "id": "h_Vc9lFKz6IO"
   },
   "outputs": [],
   "source": [
    "def perceptron(x, w, b):\n",
    "    # ToDo: Compute perceptron's output\n",
    "    if (w.dot(x) + b) > 0:\n",
    "        return 1\n",
    "    else:\n",
    "        return 0"
   ]
  },
  {
   "cell_type": "markdown",
   "metadata": {},
   "source": [
    "Test your code by running the cells below."
   ]
  },
  {
   "cell_type": "code",
   "execution_count": 77,
   "metadata": {
    "colab": {
     "base_uri": "https://localhost:8080/"
    },
    "id": "62BruEyyzfQM",
    "outputId": "583a96e5-755c-4479-a01e-bdbd3595602f"
   },
   "outputs": [
    {
     "data": {
      "text/plain": [
       "1"
      ]
     },
     "execution_count": 77,
     "metadata": {},
     "output_type": "execute_result"
    }
   ],
   "source": [
    "perceptron(x, w, b1) # Should print 1"
   ]
  },
  {
   "cell_type": "code",
   "execution_count": 78,
   "metadata": {
    "colab": {
     "base_uri": "https://localhost:8080/"
    },
    "id": "0psSfow67SnI",
    "outputId": "f232ba05-533b-433c-8acd-3957bb657b1d"
   },
   "outputs": [
    {
     "data": {
      "text/plain": [
       "0"
      ]
     },
     "execution_count": 78,
     "metadata": {},
     "output_type": "execute_result"
    }
   ],
   "source": [
    "perceptron(x, w, b2) # Should print 0"
   ]
  },
  {
   "cell_type": "markdown",
   "metadata": {
    "id": "dsbdAXsbsylC"
   },
   "source": [
    "**Sigmoid**\n",
    "$$ f(x,w,b)= \\sigma (w \\cdot x + b)$$\n",
    "$$ \\sigma (a)=\\frac{1}{1+e^{-a}} $$\n",
    "\n",
    "The same `x` and `w` as for the perceptron\n",
    "\n",
    "`b1 = - 2.39`, output: `f = 0.5016`\n",
    "\n",
    "You may also need `np.exp(array)` method, that calculates the exponential of all array elements\n"
   ]
  },
  {
   "cell_type": "code",
   "execution_count": 79,
   "metadata": {
    "id": "Vs-It_th6TE9"
   },
   "outputs": [],
   "source": [
    "def sigmoid(x, w, b):\n",
    "    # ToDo: Compute the sigmoid function\n",
    "    return 1 / (1 + np.exp(-w.dot(x) - b)) "
   ]
  },
  {
   "cell_type": "code",
   "execution_count": 80,
   "metadata": {
    "colab": {
     "base_uri": "https://localhost:8080/"
    },
    "id": "OcLupRsWwfds",
    "outputId": "27a782d5-f9d5-4b45-ed78-59e0af7a464a"
   },
   "outputs": [
    {
     "data": {
      "text/plain": [
       "0.5016927260330166"
      ]
     },
     "execution_count": 80,
     "metadata": {},
     "output_type": "execute_result"
    }
   ],
   "source": [
    "sigmoid(x, w, b1)"
   ]
  },
  {
   "cell_type": "markdown",
   "metadata": {
    "id": "aecP2u1RytKe"
   },
   "source": [
    "**Hyperbolic tangent**\n",
    "$$ f(x,w,b)= \\tanh (w \\cdot x + b)$$\n",
    "$$ \\tanh(a)=\\frac{e^a-e^{-a}}{e^a+e^{-a}} $$\n",
    "\n",
    "The same `x` and `w` as for the perceptron\n",
    "\n",
    "`b1 = - 2.39`, output: `f = 0.006770`\n",
    "\n",
    "Instead of `np.exp` use `np.tanh`"
   ]
  },
  {
   "cell_type": "code",
   "execution_count": 81,
   "metadata": {
    "id": "gOfgAwQ6whKC"
   },
   "outputs": [],
   "source": [
    "def hyp_tang(x, w, b):\n",
    "    # ToDo: Compute the hyperbolic tangent\n",
    "    return np.tanh(w.dot(x) + b)"
   ]
  },
  {
   "cell_type": "code",
   "execution_count": 82,
   "metadata": {
    "colab": {
     "base_uri": "https://localhost:8080/"
    },
    "id": "cexqU-xt37XB",
    "outputId": "a1dd542b-0947-450c-af00-04a8ea88c243"
   },
   "outputs": [
    {
     "data": {
      "text/plain": [
       "0.006770826529689403"
      ]
     },
     "execution_count": 82,
     "metadata": {},
     "output_type": "execute_result"
    }
   ],
   "source": [
    "hyp_tang(x, w, b1)"
   ]
  },
  {
   "cell_type": "markdown",
   "metadata": {
    "id": "LLvPbXqb8bKY"
   },
   "source": [
    "**Softplus**\n",
    "\n",
    "$$ f(x,w,b)= softplus (w \\cdot x + b)$$\n",
    "$$softplus(a) = ln(1 + e^a)$$\n",
    "\n",
    "The same `x` and `w` as for the perceptron\n",
    "\n",
    "`b1 = - 2.39`, output: `f = 0.6965`\n",
    "\n",
    "Use `np.log` in order to calculate natural logarithm"
   ]
  },
  {
   "cell_type": "code",
   "execution_count": 83,
   "metadata": {
    "id": "f5hE-CeP5ZCI"
   },
   "outputs": [],
   "source": [
    "def softplus(x, w, b):\n",
    "    # ToDo: Compute the softplus function\n",
    "    return np.log(1 + np.exp(w.dot(x) + b))"
   ]
  },
  {
   "cell_type": "code",
   "execution_count": 84,
   "metadata": {
    "colab": {
     "base_uri": "https://localhost:8080/"
    },
    "id": "l79wYhvm-hMW",
    "outputId": "3e46c8ae-9e14-4459-e93d-e5c821f0f6c5"
   },
   "outputs": [
    {
     "data": {
      "text/plain": [
       "0.6965383762356315"
      ]
     },
     "execution_count": 84,
     "metadata": {},
     "output_type": "execute_result"
    }
   ],
   "source": [
    "softplus(x, w, b1)"
   ]
  },
  {
   "cell_type": "markdown",
   "metadata": {
    "id": "Ok7b0AE1sO8H"
   },
   "source": [
    "Now, implement the neuron functions above inside python class Neuron"
   ]
  },
  {
   "cell_type": "code",
   "execution_count": 85,
   "metadata": {
    "id": "HU1iKv6Ase2K"
   },
   "outputs": [],
   "source": [
    "class Neuron():\n",
    "\n",
    "    def __init__(self, x, w, b):\n",
    "        self.x = x\n",
    "        self.w = w\n",
    "        self.b = b\n",
    "        \n",
    "    def perceptron(self):\n",
    "        # ToDo: Compute perceptron's output\n",
    "        if (self.w.dot(self.x) + self.b) > 0:\n",
    "            return 1\n",
    "        else:\n",
    "            return 0\n",
    "\n",
    "    def sigmoid(self):\n",
    "        # ToDo: Compute the sigmoid function\n",
    "        return 1 / (1 + np.exp(-self.w.dot(self.x) - self.b))\n",
    "\n",
    "    def hyperbolic_tangent(self):\n",
    "        # ToDo: Compute the hyperbolic tangent\n",
    "        return np.tanh(self.w.dot(self.x) + self.b)\n",
    "\n",
    "    def softplus(self):\n",
    "        # ToDo: Compute the softplus function\n",
    "        return np.log(1 + np.exp(self.w.dot(self.x) + self.b))"
   ]
  },
  {
   "cell_type": "markdown",
   "metadata": {
    "id": "GvpHCvlVwtVJ"
   },
   "source": [
    "And check the solutions on the same inputs as before"
   ]
  },
  {
   "cell_type": "code",
   "execution_count": 86,
   "metadata": {
    "id": "e0PxMFAQv5xc"
   },
   "outputs": [],
   "source": [
    "my_neuron = Neuron(x, w, b2)"
   ]
  },
  {
   "cell_type": "code",
   "execution_count": 87,
   "metadata": {
    "colab": {
     "base_uri": "https://localhost:8080/"
    },
    "id": "0V4uEXcKwjDS",
    "outputId": "f4ff9331-647e-43bc-ffc6-48e4a8130beb"
   },
   "outputs": [
    {
     "data": {
      "text/plain": [
       "0"
      ]
     },
     "execution_count": 87,
     "metadata": {},
     "output_type": "execute_result"
    }
   ],
   "source": [
    "my_neuron.perceptron()"
   ]
  },
  {
   "cell_type": "code",
   "execution_count": 88,
   "metadata": {
    "id": "dS7Ti6lbxT2Y"
   },
   "outputs": [],
   "source": [
    "my_neuron = Neuron(x, w, b1)"
   ]
  },
  {
   "cell_type": "code",
   "execution_count": 89,
   "metadata": {
    "colab": {
     "base_uri": "https://localhost:8080/"
    },
    "id": "s5MevuyOxT40",
    "outputId": "983c58e8-d1ae-411a-d0a4-04903cf7c97e"
   },
   "outputs": [
    {
     "data": {
      "text/plain": [
       "1"
      ]
     },
     "execution_count": 89,
     "metadata": {},
     "output_type": "execute_result"
    }
   ],
   "source": [
    "my_neuron.perceptron()"
   ]
  },
  {
   "cell_type": "code",
   "execution_count": 90,
   "metadata": {
    "colab": {
     "base_uri": "https://localhost:8080/"
    },
    "id": "r7J1In8XxT7p",
    "outputId": "c574a555-9137-4627-f737-c4d7f9d642c3"
   },
   "outputs": [
    {
     "data": {
      "text/plain": [
       "0.5016927260330166"
      ]
     },
     "execution_count": 90,
     "metadata": {},
     "output_type": "execute_result"
    }
   ],
   "source": [
    "my_neuron.sigmoid()"
   ]
  },
  {
   "cell_type": "code",
   "execution_count": 91,
   "metadata": {
    "colab": {
     "base_uri": "https://localhost:8080/"
    },
    "id": "b19YK5eSxT9-",
    "outputId": "59c4a5ae-177a-4008-9ddc-8ecadc7d87ba"
   },
   "outputs": [
    {
     "data": {
      "text/plain": [
       "0.006770826529689403"
      ]
     },
     "execution_count": 91,
     "metadata": {},
     "output_type": "execute_result"
    }
   ],
   "source": [
    "my_neuron.hyperbolic_tangent()"
   ]
  },
  {
   "cell_type": "code",
   "execution_count": 92,
   "metadata": {
    "colab": {
     "base_uri": "https://localhost:8080/"
    },
    "id": "P0e_d0rZxfVK",
    "outputId": "9a1a94f6-5d19-4756-9ce8-aea3ddc07507"
   },
   "outputs": [
    {
     "data": {
      "text/plain": [
       "0.6965383762356315"
      ]
     },
     "execution_count": 92,
     "metadata": {},
     "output_type": "execute_result"
    }
   ],
   "source": [
    "my_neuron.softplus()"
   ]
  }
 ],
 "metadata": {
  "colab": {
   "collapsed_sections": [
    "kKDRYD8EQTh9",
    "xsPVUpIy3hb0"
   ],
   "name": "DD4ML_T2_solutons.ipynb",
   "provenance": []
  },
  "kernelspec": {
   "display_name": "Python 3 (ipykernel)",
   "language": "python",
   "name": "python3"
  },
  "language_info": {
   "codemirror_mode": {
    "name": "ipython",
    "version": 3
   },
   "file_extension": ".py",
   "mimetype": "text/x-python",
   "name": "python",
   "nbconvert_exporter": "python",
   "pygments_lexer": "ipython3",
   "version": "3.9.16"
  }
 },
 "nbformat": 4,
 "nbformat_minor": 1
}
