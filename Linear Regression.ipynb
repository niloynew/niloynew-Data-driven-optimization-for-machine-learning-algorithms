{
 "cells": [
  {
   "cell_type": "markdown",
   "metadata": {
    "id": "3oIshPtZtAHM"
   },
   "source": [
    "# DDO4MLA Seminar 5: Linear Regression"
   ]
  },
  {
   "cell_type": "markdown",
   "metadata": {
    "id": "rG1aomPZtJqe"
   },
   "source": [
    "## Introduction"
   ]
  },
  {
   "cell_type": "markdown",
   "metadata": {
    "id": "3HF8rnPKK4rS"
   },
   "source": [
    "Linear regression is one of the fundamental machine learning techniques used for modeling the relationship between one (i.e. simple linear regression) or multiple (i.e. multiple linear regression) independent variables and one dependent variable. Independent variables are often called features, and dependent variables -- target variables. Linear regression can be thought as (and really is) fitting a linear or nonlinear function based on existing inputs and outputs. The term \"linear\" stems from the fact that the relationship being modeled is a linear combination of its weights and features, although it is possible to model a nonlinear relationship by introducing additional features based on the given ones."
   ]
  },
  {
   "cell_type": "markdown",
   "metadata": {
    "id": "_A5pEUuVyA3A"
   },
   "source": [
    "The linear relationship being modeled is expressed rather simply as a weighted sum of features:\n",
    "$$\\hat{y}_j=w^Ta_j,$$ where $y_j$ is an output corresponding to the j-th sample, $w\\in\\mathbb{R}^{m}$ is a column-vector containing model parameters (weights), $a_j\\in\\mathbb{R}^m$ is the j-th sample, and $m$ is the number of features. The dataset is represented by a matrix $A\\in\\mathbb{R}^{n\\times m}$ containing samples row-wise and a column-vector $y\\in\\mathbb{R}^n$ containing corresponding outputs as follows: $$A=\\begin{bmatrix}a_1^T\\\\a_2^T\\\\\\vdots\\\\a_n^T\\end{bmatrix},\\quad y=\\begin{bmatrix}y_1\\\\y_2\\\\\\vdots\\\\y_n\\end{bmatrix},$$ where $n$ is the number of samples in the dataset."
   ]
  },
  {
   "cell_type": "markdown",
   "metadata": {
    "id": "xQ4RMWHlMQee"
   },
   "source": [
    "The dataset consisting of $A$ and $y$ is used to determine $w$. The particular way of determining $w$ depends on the type of the linear regression used. In the exercises below we will be dealing with three basic types of linear regression."
   ]
  },
  {
   "cell_type": "markdown",
   "metadata": {
    "id": "fhpWqLSyAC-O"
   },
   "source": [
    "## Exercise 1"
   ]
  },
  {
   "cell_type": "markdown",
   "metadata": {
    "id": "Zj_5eq1DOjBz"
   },
   "source": [
    "The most straightforward way to determine $w$ is to employ the ordinary least squares approach. The least squares estimation of the parameters is formulated as the following quadratic programming problem:\n",
    "$$\\min_w\\frac{1}{2}\\lVert y-Aw\\rVert_2^2$$"
   ]
  },
  {
   "cell_type": "markdown",
   "metadata": {
    "id": "gcMoq4-uB1tW"
   },
   "source": [
    "#### Task 1.1"
   ]
  },
  {
   "cell_type": "markdown",
   "metadata": {
    "id": "1c-IFtIEO_7w"
   },
   "source": [
    "Use the first-order optimality condition to derive the optimal $w$ for the least squares linear regression. \n",
    "\n",
    "The first-order optimality condition: a continuous function $f(x)$ has a stationary point $x^*$ if $\\nabla_xf(x^*)=0$.\n",
    "\n",
    "The strategy is to find the gradient of the objective function of the least squares problem, equate it to zero and to solve the resulting linear system to obtain an expression for the optimal solution.\n",
    "\n",
    "**Hint:**  You can utilize matrix calculus to obtain the gradient using scalar-by-vector identities listed in [[1](#references)]."
   ]
  },
  {
   "cell_type": "markdown",
   "metadata": {
    "id": "tyL02oE6OXEe"
   },
   "source": [
    "**ToDo**\n",
    "\n",
    "**Method 1**\n",
    "\n",
    "Represent the objective function in the following way:\n",
    "\n",
    "$$J=\\frac{1}{2}\\lVert y-Aw\\rVert_2^2=\\frac{1}{2}\\sum_{i=1}^n(y_i-\\sum_{j=1}^mA_{ij}w_j)^2$$\n",
    "\n",
    "Find the partial derivative w.r.t. the k-th parameter $w_k$:\n",
    "\n",
    "$$\\frac{\\partial J}{\\partial w_k}=\\sum_{i=1}^n(y_i-\\sum_{j=1}^mA_{ij}w_j)(-A_{ik})=\\sum_{i=1}^n(-A_{ki}^T)(y_i-\\sum_{j=1}^mA_{ij}w_j)$$\n",
    "\n",
    "As you can see $\\frac{\\partial J}{\\partial w_k}$ is the product of the k-th row of $(-A^T)$ and the column-vector $(y-Aw)$. Since $\\nabla_w{J}(w)=[\\frac{\\partial J}{\\partial w_1},\\frac{\\partial J}{\\partial w_2},\\ldots,\\frac{\\partial J}{\\partial w_m}]^T$ we obtain:\n",
    "\n",
    "$$\\nabla_w J(w)=(-A^T)(y-Aw)=A^TAw-A^Ty$$\n",
    "\n",
    "The first-order optimality condition states that $\\nabla_wJ(w_{ols})=0$. This fact is used to find $w_{ols}$:\n",
    "\n",
    "$$A^TAw_{ols}-A^Ty=0$$\n",
    "$$A^TAw_{ols}=A^Ty$$\n",
    "$$(A^TA)^{-1}A^TAw_{ols}=(A^TA)^{-1}A^Ty$$\n",
    "$$w_{ols}=(A^TA)^{-1}A^Ty$$\n",
    "\n",
    "**Method 2 (using matrix calculus)**\n",
    "\n",
    "Represent the objective function in the following way:\n",
    "\n",
    "$$J=\\frac{1}{2}\\lVert y-Aw\\rVert_2^2=\\frac{1}{2}(y-Aw)^T(y-Aw)=\\frac{1}{2}w^T(A^TA)w-\\frac{1}{2}y^TAw-\\frac{1}{2}w^TA^Ty+\\frac{1}{2}y^Ty$$\n",
    "\n",
    "Find the gradient $\\nabla_w J(w)$ using scalar-by-vector identities of matrix calculus:\n",
    "\n",
    "$$\\nabla_w J(w) = A^TAw-\\frac{1}{2}A^Ty-\\frac{1}{2}A^Ty-0=A^TAw-A^Ty$$\n",
    "\n",
    "The rest proceeds as in **Method 1**."
   ]
  },
  {
   "cell_type": "markdown",
   "metadata": {
    "id": "c4uz5dGFcBi4"
   },
   "source": [
    "#### Task 1.2"
   ]
  },
  {
   "cell_type": "markdown",
   "metadata": {
    "id": "bW8mtu6qO2Fc"
   },
   "source": [
    "Implement the function to compute the regression parameters $w$ using the ordinary least squares."
   ]
  },
  {
   "cell_type": "code",
   "execution_count": 1,
   "metadata": {
    "id": "HsmllXqumYyq"
   },
   "outputs": [],
   "source": [
    "import numpy as np\n",
    "import numpy.linalg as la\n",
    "import matplotlib.pyplot as plt"
   ]
  },
  {
   "cell_type": "code",
   "execution_count": 2,
   "metadata": {
    "id": "Hx-gW6uAhpPc"
   },
   "outputs": [],
   "source": [
    "def ols(A, y):\n",
    "  #ToDo: Compute w\n",
    "  w = np.dot(la.inv(np.dot(A.T, A)), np.dot(A.T, y))\n",
    "  return w"
   ]
  },
  {
   "cell_type": "markdown",
   "metadata": {
    "id": "bzUR32EDnGNt"
   },
   "source": [
    "For the following samples and values of the target variable find the optimal weights of the linear regression using the ordinary least squares. The output should be:\n",
    "\n",
    "[ 1.466 -0.534]"
   ]
  },
  {
   "cell_type": "code",
   "execution_count": 3,
   "metadata": {
    "colab": {
     "base_uri": "https://localhost:8080/"
    },
    "id": "hYJ9jlCvmp7i",
    "outputId": "1f10ac49-ecfa-4172-a7be-c5024711c2e9"
   },
   "outputs": [
    {
     "name": "stdout",
     "output_type": "stream",
     "text": [
      "[ 1.466 -0.534]\n"
     ]
    }
   ],
   "source": [
    "A = np.array([[1, 2], [2, 1], [3, 4], [4, 3]])\n",
    "y = np.array([1, 3, 2, 4])\n",
    "w = ols(A, y)\n",
    "print(np.around(w, 3))"
   ]
  },
  {
   "cell_type": "markdown",
   "metadata": {
    "id": "ky59KfqRCS0x"
   },
   "source": [
    "## Exercise 2"
   ]
  },
  {
   "cell_type": "markdown",
   "metadata": {
    "id": "RHI3OWx-PW3h"
   },
   "source": [
    "In some cases the least squares linear regression is prone to overfitting. Overfitting can be avoided by employing regularization. Ridge regression extends the previously formulated optimization problem by including the L2 penalty term as below:\n",
    "\n",
    "$$\\min_w\\frac{1}{2}\\lVert y-Aw\\rVert_2^2+\\frac{1}{2}\\lambda\\lVert w\\rVert_2^2,$$\n",
    "\n",
    "where $\\lambda$ is the L2-regularization parameter."
   ]
  },
  {
   "cell_type": "markdown",
   "metadata": {
    "id": "SZbFr2miPckE"
   },
   "source": [
    "#### Task 2.1"
   ]
  },
  {
   "cell_type": "markdown",
   "metadata": {
    "id": "UM8MUlIBEHSa"
   },
   "source": [
    "Use the first-order optimality condition and the results of the previous exercise to derive the optimal $w$ for Ridge regression. As in **Exercise 1** you can use the same strategy and utilize matrix calculus to obtain the gradient using scalar-by-vector identities listed in [[1](#references)]."
   ]
  },
  {
   "cell_type": "markdown",
   "metadata": {
    "id": "2oHIj9ALEVwJ"
   },
   "source": [
    "**ToDo**\n",
    "\n",
    "**Method 1**\n",
    "\n",
    "Due to the linearity of differentiation and the results from the previous exercise:\n",
    "\n",
    "$$\\nabla_wJ(w)=A^TAw-A^Ty+\\nabla_w\\bigg(\\frac{1}{2}\\lambda\\lVert w\\rVert_2^2\\bigg)\\tag{2.1}$$\n",
    "\n",
    "Find the partial derivative of the L2 penalty term w.r.t. the k-th parameter $w_k$:\n",
    "\n",
    "$$\\frac{\\partial}{\\partial w_k}\\bigg(\\frac{1}{2}\\lambda\\lVert w\\rVert_2^2\\bigg)=\\frac{1}{2}\\lambda\\frac{\\partial}{\\partial w_k}\\bigg(\\sum_{i=1}^mw_i^2\\bigg)=\\lambda w_k\\tag{2.2}$$\n",
    "\n",
    "The corresponding gradient is therefore:\n",
    "\n",
    "$$\\nabla_w\\bigg(\\frac{1}{2}\\lambda\\lVert w\\rVert_2^2\\bigg)=\\lambda w\\tag{2.3}$$\n",
    "\n",
    "Substituting $(2.3)$ into $(2.1)$ yields:\n",
    "\n",
    "$$\\nabla_wJ(w)=A^TAw-A^Ty+\\lambda w=(A^TA+\\lambda I)w-A^Ty\\tag{2.4}$$\n",
    "\n",
    "Applying the first-order optimality condition to $(2.4)$ gives:\n",
    "\n",
    "$$w_{ridge}=(A^TA+\\lambda I)^{-1}A^Ty$$\n",
    "\n",
    "**Method 2 (using matrix calculus)**\n",
    "\n",
    "Due to the linearity of differentiation, the results from the previous exercise, and the fact that $\\lVert w\\rVert_2^2=w^Tw$:\n",
    "\n",
    "$$\\nabla_wJ(w)=A^TAw-A^Ty+\\nabla_w\\bigg(\\frac{1}{2}\\lambda w^Tw\\bigg)\\tag{2.1}$$\n",
    "\n",
    "Since $\\nabla_w(w^Tw)=2w$ we finally obtain:\n",
    "\n",
    "$$\\nabla_wJ(w)=A^TAw-A^Ty+\\lambda w=(A^TA+\\lambda I)w-A^Ty$$\n",
    "\n",
    "The rest proceeds as in **Method 1**"
   ]
  },
  {
   "cell_type": "markdown",
   "metadata": {
    "id": "_JKTHlo9Pvwk"
   },
   "source": [
    "#### Task 2.2"
   ]
  },
  {
   "cell_type": "markdown",
   "metadata": {
    "id": "TrcWZCkKh85k"
   },
   "source": [
    "Implement the function to compute the regression parameters $w$ using Ridge regression."
   ]
  },
  {
   "cell_type": "code",
   "execution_count": 4,
   "metadata": {
    "id": "6Ofyt66wiEFf"
   },
   "outputs": [],
   "source": [
    "def ridge(A, y, Lambda):\n",
    "  #ToDo: Compute w\n",
    "  w = np.dot(la.inv(np.dot(A.T, A) + Lambda * np.eye(A.shape[1])), np.dot(A.T, y))\n",
    "  return w"
   ]
  },
  {
   "cell_type": "markdown",
   "metadata": {
    "id": "cL_yaw0SnwyL"
   },
   "source": [
    "For the following samples and values of the target variable find the optimal weights of the linear regression using Ridge regression. The output should be:\n",
    "\n",
    "[0.196 0.291]\n",
    "\n",
    "\n",
    "\n"
   ]
  },
  {
   "cell_type": "code",
   "execution_count": 5,
   "metadata": {
    "colab": {
     "base_uri": "https://localhost:8080/"
    },
    "id": "W3BUQ4P1nz8Q",
    "outputId": "9f841de8-071a-4fbc-ad69-dc612324d2ad"
   },
   "outputs": [
    {
     "name": "stdout",
     "output_type": "stream",
     "text": [
      "[0.196 0.291]\n"
     ]
    }
   ],
   "source": [
    "A = np.array([[1, 2],[3, 4]])\n",
    "y = np.array([1, 2])\n",
    "Lambda = 5\n",
    "w = ridge(A, y, Lambda)\n",
    "print(np.around(w, 3))"
   ]
  },
  {
   "cell_type": "markdown",
   "metadata": {
    "id": "Y0PgP7KWE6bM"
   },
   "source": [
    "## Exercise 3"
   ]
  },
  {
   "cell_type": "markdown",
   "metadata": {
    "id": "ZkO5baKKQL-P"
   },
   "source": [
    "Ridge regression is able to tackle overfitting but it cannot perform the feature selection, i.e. all features will stay accounted for. LASSO regression solves this problem by using the L1 penalty term instead of L2 as below:\n",
    "\n",
    "$$\\min_w\\frac{1}{2}\\lVert y-Aw\\rVert_2^2+\\frac{1}{2}\\lambda\\lVert w\\rVert_1,$$\n",
    "\n",
    "where $\\lambda$ is the L1-regularization parameter."
   ]
  },
  {
   "cell_type": "markdown",
   "metadata": {
    "id": "PxqRZfGkG36j"
   },
   "source": [
    "Unfortunately there is no closed-form expression for the optimal $w$ since the absolute value is not differentiable at zero. However, there is a multitude of iterative methods to solve this problem. One of these methods is the **shooting method** which is the most simple to implement and does not take too many iterations to converge [[2](#references)]. The algorithm behind the shooting method can be represented as:"
   ]
  },
  {
   "cell_type": "markdown",
   "metadata": {
    "id": "pHrKl7P6vLWl"
   },
   "source": [
    "\n",
    "\n",
    "1.   Initialize $w$ with the corresponding Ridge regression parameters;\n",
    "2.   For all pairs of integers $1\\leq j,k\\leq m$ compute $\\alpha_j$, and $\\beta_{jk}$ using the formulae below:\n",
    "$$\\alpha_j=-A_j^Ty,$$\n",
    "$$\\beta_{jk}=A_j^TA_k,$$\n",
    "where $A_j^T$ is the transpose of the j-th column of $A$, and $A_k$ is the k-th column of $A$;\n",
    "3.   For all integers $1\\leq j\\leq m$ compute $S_j$ as follows:\n",
    "$$S_j=\\alpha_j+\\sum_{k=1\\\\k\\neq j}^m\\beta_{jk}w_k;$$\n",
    "4.   For all integers $1\\leq j\\leq m$ update $w_j$:\n",
    "$$w_j=\\begin{cases}\n",
    "\\frac{\\lambda-S_j}{\\beta_{jj}}, & S_j>\\lambda\\\\\n",
    "\\frac{-\\lambda-S_j}{\\beta_{jj}}, & S_j<\\lambda\\\\\n",
    "0, & |S_j|\\leq\\lambda\\\\\n",
    "\\end{cases}$$\n",
    "5.   Repeat (3) if not converged."
   ]
  },
  {
   "cell_type": "markdown",
   "metadata": {
    "id": "qKJ0wQKg1z8b"
   },
   "source": [
    "By convergence we assume small improvement of the objective function or exceeding the maximum number of iterations:\n",
    "$$J(w_j^{prev})-J(w_j^{curr})<\\epsilon,$$\n",
    "where $w_j^{curr}$ is the current parameters, $w_j^{prev}$ is the previous parameters, and $\\epsilon$ is the tolerance."
   ]
  },
  {
   "cell_type": "markdown",
   "metadata": {
    "id": "V8jKzGjNQh4g"
   },
   "source": [
    "#### Task 3.1"
   ]
  },
  {
   "cell_type": "markdown",
   "metadata": {
    "id": "ag2NwhpAbpAA"
   },
   "source": [
    "First, we define the function to compute the squared 2-norm $\\lVert\\dots\\rVert_2^2$ and the function to compute the LASSO objective function. In the cell below you need to implement the objective function."
   ]
  },
  {
   "cell_type": "code",
   "execution_count": 6,
   "metadata": {
    "id": "yn6LP4TLiCC9"
   },
   "outputs": [],
   "source": [
    "def norm2sq(x):\n",
    "  return np.dot(x.T, x)\n",
    "\n",
    "def lasso_obj(A, y, w, Lambda):\n",
    "  # ToDo: Compute the objective function using norm2sq\n",
    "  J = .5 * norm2sq(y - np.dot(A, w)) + .5 * Lambda * la.norm(w, 1)\n",
    "  return J"
   ]
  },
  {
   "cell_type": "markdown",
   "metadata": {
    "id": "oR9R0upNHZbb"
   },
   "source": [
    "Compute the value of the LASSO objective function for the following data. The output should be:\n",
    "\n",
    "765.5"
   ]
  },
  {
   "cell_type": "code",
   "execution_count": 7,
   "metadata": {
    "colab": {
     "base_uri": "https://localhost:8080/"
    },
    "id": "MjvwuO4nHlYA",
    "outputId": "5ca9b180-5f8c-4b5d-fc7f-7dc2bd6bda56"
   },
   "outputs": [
    {
     "name": "stdout",
     "output_type": "stream",
     "text": [
      "765.5\n"
     ]
    }
   ],
   "source": [
    "A = np.array([[1, 2],[3, 4]])\n",
    "y = np.array([1, 2])\n",
    "w = np.array([3, 7])\n",
    "Lambda = 5\n",
    "J = lasso_obj(A, y, w, Lambda)\n",
    "print(np.around(J, 3))"
   ]
  },
  {
   "cell_type": "markdown",
   "metadata": {
    "id": "b5lJCWFQQ5Mi"
   },
   "source": [
    "#### Task 3.2"
   ]
  },
  {
   "cell_type": "markdown",
   "metadata": {
    "id": "6QasYPyccLXw"
   },
   "source": [
    "Then we define the function computing LASSO regression parameters according to the algorithm above. Here you need to implement the steps 2 and 4 of the algorithm."
   ]
  },
  {
   "cell_type": "code",
   "execution_count": 8,
   "metadata": {
    "id": "_2cOZ7rgcKS_"
   },
   "outputs": [],
   "source": [
    "def lasso(w_ridge, A, y, Lambda, eps, max_iter):\n",
    "  # Initialize the parameters and the iteration counter\n",
    "  w = np.copy(w_ridge)\n",
    "  iter = 0\n",
    "\n",
    "  # Initialize the previous and the current objective function values\n",
    "  prev = np.inf\n",
    "  curr = lasso_obj(A, y, w, Lambda)\n",
    "\n",
    "  # Compute alpha_j and beta_jk (step 2)\n",
    "  # hint: alpha is a vector containing all alpha_jk, and\n",
    "  #       beta is a matrix containing all beta_jk, hence\n",
    "  #       try to vectorize the operations\n",
    "  # ToDo:\n",
    "  alpha = -np.dot(A.T, y)\n",
    "  # ToDo:\n",
    "  beta = np.dot(A.T, A)\n",
    "\n",
    "  # Iterate until convergence\n",
    "  while (prev - curr) > eps and iter < max_iter:\n",
    "    # Process each w_j\n",
    "    for j in range(w.size):\n",
    "      # Compute S_j (step 3)\n",
    "      S_j = alpha[j]\n",
    "      for k in range(w.size):\n",
    "        if k != j:\n",
    "          S_j = S_j + beta[j, k] * w[k]\n",
    "\n",
    "      # Update w_j (step 4)\n",
    "      if S_j > Lambda:\n",
    "        # ToDo:\n",
    "        w[j] = (Lambda - S_j) / beta[j, j]\n",
    "      elif S_j < -Lambda:\n",
    "        # ToDo:\n",
    "        w[j] = (-Lambda - S_j) / beta[j, j]\n",
    "      else:\n",
    "        w[j] = 0\n",
    "    \n",
    "    # Compute the objective function\n",
    "    prev = curr\n",
    "    curr = lasso_obj(A, y, w, Lambda)\n",
    "\n",
    "    # Increment the iteration counter\n",
    "    iter = iter + 1\n",
    "  return w"
   ]
  },
  {
   "cell_type": "markdown",
   "metadata": {
    "id": "MsnuvvKPH-Ma"
   },
   "source": [
    "For the following samples and values of the target variable find the optimal weights of the linear regression using LASSO regression. The output should be:\n",
    "\n",
    "[ 1.216 -0.284]"
   ]
  },
  {
   "cell_type": "code",
   "execution_count": 9,
   "metadata": {
    "colab": {
     "base_uri": "https://localhost:8080/"
    },
    "id": "1BtA7MsbIHXA",
    "outputId": "4a9badeb-6693-44b6-967a-9a1ddbb0e05f"
   },
   "outputs": [
    {
     "name": "stdout",
     "output_type": "stream",
     "text": [
      "[ 1.216 -0.284]\n"
     ]
    }
   ],
   "source": [
    "# Prepare the dataset\n",
    "A = np.array([[1, 2], [2, 1], [3, 4], [4, 3]])\n",
    "y = np.array([1, 3, 2, 4])\n",
    "\n",
    "# Find initial weights with Ridge regression\n",
    "Lambda_ridge = 5\n",
    "w_ridge = ridge(A, y, Lambda_ridge)\n",
    "\n",
    "# Find weights for LASSO regression\n",
    "Lambda = .5\n",
    "eps = 1e-8\n",
    "max_iter = 500\n",
    "w = lasso(w_ridge, A, y, Lambda, eps, max_iter)\n",
    "print(np.around(w, 3))"
   ]
  },
  {
   "cell_type": "markdown",
   "metadata": {
    "id": "SLRvU5l4owiV"
   },
   "source": [
    "## Exercise 4"
   ]
  },
  {
   "cell_type": "markdown",
   "metadata": {
    "id": "QMcBWtK7RXzv"
   },
   "source": [
    "Now we are going to use these types of linear regression to fit the following polynomial:\n",
    "\n",
    "$$\\hat{f}(x)=b_mx^m+b_{m-1}x^{m-1}+\\ldots+b_1x+b_0$$\n",
    "\n",
    "Let us generate the initial dataset by sampling $n$ values of the nonlinear function $f(x)=e^x$ and adding normally distributed noise to the samples. The resulting data is the input vector $x$ and the output vector $y$."
   ]
  },
  {
   "cell_type": "code",
   "execution_count": 10,
   "metadata": {
    "colab": {
     "base_uri": "https://localhost:8080/",
     "height": 374
    },
    "id": "KOIJnVAdq02Y",
    "outputId": "f4114972-7f2a-4895-9858-eb97c3dad0f5"
   },
   "outputs": [
    {
     "data": {
      "image/png": "[encoded data removed]",
      "text/plain": [
       "<Figure size 800x600 with 1 Axes>"
      ]
     },
     "metadata": {},
     "output_type": "display_data"
    }
   ],
   "source": [
    "# Define the number of samples\n",
    "n = 100\n",
    "\n",
    "# Define the sampling boundaries\n",
    "x1 = 0\n",
    "x2 = 4\n",
    "\n",
    "# Define the noise parameters\n",
    "mean = .0\n",
    "std = 12.25\n",
    "\n",
    "# Ensure reproducibility by making random number generator produce the same \n",
    "# values at new executions\n",
    "np.random.seed(42)\n",
    "\n",
    "# Generate the samples\n",
    "x = np.linspace(x1, x2, n)\n",
    "y = np.exp(x) + np.random.normal(mean, std, n)\n",
    "\n",
    "# Plot the samples\n",
    "plt.figure(figsize=(8, 6))\n",
    "plt.plot(x, y, 'y.')\n",
    "plt.plot(x, np.exp(x), 'm')\n",
    "plt.legend(['Dataset', 'Initial curve'])\n",
    "plt.show()"
   ]
  },
  {
   "cell_type": "markdown",
   "metadata": {
    "id": "H2XdFGFjsbbS"
   },
   "source": [
    "Before proceeding any further we have to tailor the task to the linear regression. The powers of $x$ can be represented as separate features. We can also account for the bias $b_0$ by introducing an additional feature having the value of one for all samples in the initial dataset. The matrix of inputs, the vector of outputs, and the vector of parameters are therefore:\n",
    "\n",
    "$$A=\\begin{bmatrix}\n",
    "1 & x_1 & x_1^2 & \\ldots & x_1^m\\\\\n",
    "1 & x_2 & x_2^2 & \\ldots & x_2^m\\\\\n",
    "\\vdots & \\vdots & \\vdots & \\ddots & \\vdots\\\\\n",
    "1 & x_n & x_n^2 & \\ldots & x_n^m\\\\\n",
    "\\end{bmatrix},\\quad y=\\begin{bmatrix}y_1\\\\y_2\\\\\\vdots\\\\y_n\\end{bmatrix},\\quad w=\\begin{bmatrix}b_0\\\\b_1\\\\\\vdots\\\\b_m\\end{bmatrix}$$"
   ]
  },
  {
   "cell_type": "markdown",
   "metadata": {
    "id": "P8GKnfgF17aq"
   },
   "source": [
    "Now we can generate the dataset for the linear regression task."
   ]
  },
  {
   "cell_type": "code",
   "execution_count": 11,
   "metadata": {
    "id": "VXVQfmp72BQE"
   },
   "outputs": [],
   "source": [
    "# Define the number of powers\n",
    "m = 10\n",
    "\n",
    "# Allocate memory for the matrix of samples\n",
    "A = np.zeros((n, m + 1))\n",
    "\n",
    "# Fill the first (ones) and the second (first power of x) column\n",
    "A[:, 0] = np.ones(n)\n",
    "A[:, 1] = x\n",
    "\n",
    "# Fill the rest columns (powers of x from 2 to m)\n",
    "for i in range(2, m + 1):\n",
    "  A[:, i] = x ** i"
   ]
  },
  {
   "cell_type": "markdown",
   "metadata": {
    "id": "HoCDLtyJgE70"
   },
   "source": [
    "Finally, we can proceed to fitting the polynomial using previously implemented estimators."
   ]
  },
  {
   "cell_type": "code",
   "execution_count": 12,
   "metadata": {
    "colab": {
     "base_uri": "https://localhost:8080/",
     "height": 374
    },
    "id": "Mpp5GtswgSyI",
    "outputId": "771ce5e7-43f7-478e-cdbe-12228af6da1e"
   },
   "outputs": [
    {
     "data": {
      "image/png": "[encoded data removed]",
      "text/plain": [
       "<Figure size 800x600 with 1 Axes>"
      ]
     },
     "metadata": {},
     "output_type": "display_data"
    }
   ],
   "source": [
    "# Estimate the model parameters for each type of linear regression\n",
    "w_ols = ols(A, y)\n",
    "w_ridge = ridge(A, y, 10)\n",
    "w_lasso = lasso(w_ridge, A, y, 80, 1e-8, 1000)\n",
    "\n",
    "# Evaluate the models\n",
    "y_ols = np.dot(A, w_ols)\n",
    "y_ridge = np.dot(A, w_ridge)\n",
    "y_lasso = np.dot(A, w_lasso)\n",
    "\n",
    "# Plot the results\n",
    "plt.figure(figsize=(8, 6))\n",
    "plt.plot(x, y, 'y.')\n",
    "plt.plot(x, y_ols, 'r-')\n",
    "plt.plot(x, y_ridge, 'g-')\n",
    "plt.plot(x, y_lasso, 'b-')\n",
    "plt.legend(['Dataset', 'OLS', 'Ridge', 'LASSO'])\n",
    "plt.show()"
   ]
  },
  {
   "cell_type": "markdown",
   "metadata": {
    "id": "GH_ajZ87d8A5"
   },
   "source": [
    "As it can be seen from the graph the model obtained with the ordinary least squares demonstrates some degree of overfitting: it tries to model oscillations which were not present in the underlying relationship. The models obtained via Ridge and LASSO regression show steady exponential behaviour which is consistent with the characteristics of the function used to generate the dataset."
   ]
  },
  {
   "cell_type": "markdown",
   "metadata": {
    "id": "5UUA8h0jgcxP"
   },
   "source": [
    "However, there is a significant difference between how Ridge and LASSO regression performed their task of parameter estimation. Let us take a look at the resulting parameters of the two models."
   ]
  },
  {
   "cell_type": "code",
   "execution_count": 13,
   "metadata": {
    "colab": {
     "base_uri": "https://localhost:8080/"
    },
    "id": "cOk3UF9Rg-Ou",
    "outputId": "0ecb7c75-4d57-4017-e9b1-0fd0419ef1ae"
   },
   "outputs": [
    {
     "name": "stdout",
     "output_type": "stream",
     "text": [
      "w for Ridge:\n",
      " [ 0.79502304 -1.53150239 -0.84997144 -0.15391025  0.3056883   0.46645901\n",
      "  0.22283341 -0.2434941   0.02015839  0.01307804 -0.00204859]\n",
      "w for LASSO:\n",
      " [ 0.          0.          0.         -0.66767893  0.13509708  0.52244821\n",
      "  0.22754412 -0.2432447   0.02006299  0.01304724 -0.00205729]\n"
     ]
    }
   ],
   "source": [
    "print('w for Ridge:\\n', w_ridge)\n",
    "print('w for LASSO:\\n', w_lasso)"
   ]
  },
  {
   "cell_type": "markdown",
   "metadata": {
    "id": "h6w1b3qehTZi"
   },
   "source": [
    "For Ridge regression all coefficients are non-zero meaning that it preserved all features. Conversely, the first three corresponding coefficients for LASSO regression are zero, hence LASSO discarded tрe first three features. Therefore, LASSO performed feature selection in addition to avoiding overfitting."
   ]
  },
  {
   "cell_type": "markdown",
   "metadata": {
    "id": "J7DgxjdXW25D"
   },
   "source": [
    "<a name=\"references\"></a>\n",
    "\n",
    "## References\n",
    "\n",
    "1.   https://en.wikipedia.org/wiki/Matrix_calculus#:~:text=partial%20%5Cmathbf%20%7Bg%7D%20%7D%7D%7D-,Scalar%2Dby%2Dvector%20identities,-%5Bedit%5D\n",
    "2.   Schmidt, Mark. (2005). Least Squares Optimization with L1-Norm Regularization.\n",
    "\n",
    "\n",
    "\n",
    "\n"
   ]
  }
 ],
 "metadata": {
  "colab": {
   "collapsed_sections": [],
   "name": "DDO4MLA_T5_with_solutions.ipynb",
   "provenance": []
  },
  "kernelspec": {
   "display_name": "Python 3 (ipykernel)",
   "language": "python",
   "name": "python3"
  },
  "language_info": {
   "codemirror_mode": {
    "name": "ipython",
    "version": 3
   },
   "file_extension": ".py",
   "mimetype": "text/x-python",
   "name": "python",
   "nbconvert_exporter": "python",
   "pygments_lexer": "ipython3",
   "version": "3.9.16"
  }
 },
 "nbformat": 4,
 "nbformat_minor": 1
}
