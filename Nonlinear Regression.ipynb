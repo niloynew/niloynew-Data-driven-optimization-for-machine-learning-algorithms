{
  "nbformat": 4,
  "nbformat_minor": 0,
  "metadata": {
    "colab": {
      "name": "DDO4MLA_T6_v2_with_solutions.ipynb",
      "provenance": [],
      "collapsed_sections": []
    },
    "kernelspec": {
      "name": "python3",
      "display_name": "Python 3"
    },
    "language_info": {
      "name": "python"
    }
  },
  "cells": [
    {
      "cell_type": "markdown",
      "source": [
        "# DDO4MLA Practice 6.\n",
        "\n",
        "# Nonlinear Regression"
      ],
      "metadata": {
        "id": "3Cc9WSBIpt7N"
      }
    },
    {
      "cell_type": "markdown",
      "source": [
        "## Introduction"
      ],
      "metadata": {
        "id": "_vevn2xIrATn"
      }
    },
    {
      "cell_type": "markdown",
      "source": [
        "As opposed to linear regression, in nonlinear regression data are modeled by a function which is a nonlinear combination of the independent variables and the model parameters. This nonlinearity results in the exceptional flexibility to construct more sophisticated models than the ones available via linear regression. In the following exercises, we will be dealing with a particular nonlinear relationship, although nonlinear regression allows using any nonlinear model."
      ],
      "metadata": {
        "id": "eXK8syHBVVst"
      }
    },
    {
      "cell_type": "markdown",
      "source": [
        "## Exercise 1"
      ],
      "metadata": {
        "id": "52WxDWJHZbIW"
      }
    },
    {
      "cell_type": "markdown",
      "source": [
        "We assume to have one independent variable $x$ and one dependent variable $y$. The following rational function will be used to model the relationship between $x$ and $y$:"
      ],
      "metadata": {
        "id": "Y5PHz28wrJ6E"
      }
    },
    {
      "cell_type": "markdown",
      "source": [
        "$$\\hat{f}(x,a,b)=\\frac{P(x, a)}{Q(x, b)},$$"
      ],
      "metadata": {
        "id": "vrS9EypwoVni"
      }
    },
    {
      "cell_type": "markdown",
      "source": [
        "where $a\\in\\mathbb{R}^p$ and $b\\in\\mathbb{R}^q$ are coefficients of the polynomial functions $P(x,a)$ and $Q(x,b)$ respectively. The polynomial functions $P(x,a)$ and $Q(x,b)$ are defined as follows:"
      ],
      "metadata": {
        "id": "4EVuC7Q9sXad"
      }
    },
    {
      "cell_type": "markdown",
      "source": [
        "$$P(x,a)=\\sum_{j=1}^pa_jx^{j-1},$$\n",
        "$$Q(x,b)=1+\\sum_{k=1}^qb_jx^k,$$"
      ],
      "metadata": {
        "id": "RwNiaRh4q6Od"
      }
    },
    {
      "cell_type": "markdown",
      "source": [
        "where $p$ and $q$ are the numbers of coefficients of the polynomial functions $P(x,a)$ and $Q(x,b)$ respectively."
      ],
      "metadata": {
        "id": "0fS9iZuVs-HF"
      }
    },
    {
      "cell_type": "markdown",
      "source": [
        "#### Task 1.1"
      ],
      "metadata": {
        "id": "8fmdCE_VwHx4"
      }
    },
    {
      "cell_type": "markdown",
      "source": [
        "Implement the polynomial function $P(x,a)$ in the cell below."
      ],
      "metadata": {
        "id": "QOfN3m5HwP4z"
      }
    },
    {
      "cell_type": "code",
      "source": [
        "import numpy as np\n",
        "\n",
        "def P(x, a):\n",
        "  \"\"\"\n",
        "  Computes P(x, a)\n",
        "  Arguments:\n",
        "      x: a scalar argument\n",
        "      a: a vector of coefficients of P(x, a)\n",
        "  Returns:\n",
        "      P(x, a)\n",
        "  \"\"\"\n",
        "  # ToDo:\n",
        "  # Hint: use list comprehension\n",
        "  return np.sum([a[j - 1] * x ** (j - 1) for j in range(1, a.size + 1)])"
      ],
      "metadata": {
        "id": "_tqIZdIewlbE"
      },
      "execution_count": 2,
      "outputs": []
    },
    {
      "cell_type": "markdown",
      "source": [
        "Compute $P(x,a)$ for given $x$ and $a$. The output should be $307$."
      ],
      "metadata": {
        "id": "z0OwvBYyXA-q"
      }
    },
    {
      "cell_type": "code",
      "source": [
        "x = 5\n",
        "a = np.array([2, 1, 2, 2])\n",
        "P(x, a)"
      ],
      "metadata": {
        "colab": {
          "base_uri": "https://localhost:8080/"
        },
        "id": "4ufmpdgpXAvT",
        "outputId": "b57b995e-cd8c-42ab-b8ef-8990fcd75a12"
      },
      "execution_count": 3,
      "outputs": [
        {
          "output_type": "execute_result",
          "data": {
            "text/plain": [
              "307"
            ]
          },
          "metadata": {},
          "execution_count": 3
        }
      ]
    },
    {
      "cell_type": "markdown",
      "source": [
        "#### Task 1.2"
      ],
      "metadata": {
        "id": "_XHuKSxFZ7u5"
      }
    },
    {
      "cell_type": "markdown",
      "source": [
        "Implement the polynomial function $Q(x,b)$ in the cell below."
      ],
      "metadata": {
        "id": "AoIFqHpLaB60"
      }
    },
    {
      "cell_type": "code",
      "source": [
        "def Q(x, b):\n",
        "  \"\"\"\n",
        "  Computes Q(x, b)\n",
        "  Arguments:\n",
        "      x: a scalar argument\n",
        "      b: a vector of coefficients of Q(x, b)\n",
        "  Returns:\n",
        "      Q(x, b)\n",
        "  \"\"\"\n",
        "  # ToDo:\n",
        "  # Hint: use list comprehension\n",
        "  return 1 + np.sum([b[k - 1] * x ** k for k in range(1, b.size + 1)])"
      ],
      "metadata": {
        "id": "myL7UMzQaCXN"
      },
      "execution_count": 4,
      "outputs": []
    },
    {
      "cell_type": "markdown",
      "source": [
        "Compute $Q(x,a)$ for given $x$ and $b$. The output should be $123$."
      ],
      "metadata": {
        "id": "dtjLx8bmX2cY"
      }
    },
    {
      "cell_type": "code",
      "source": [
        "x = 2\n",
        "b = np.array([3, 3, 5, 4])\n",
        "Q(x, b)"
      ],
      "metadata": {
        "colab": {
          "base_uri": "https://localhost:8080/"
        },
        "id": "yjE1LRovX2yA",
        "outputId": "ee9cdaa5-cd3c-4fc9-a0b0-7209f80df878"
      },
      "execution_count": 5,
      "outputs": [
        {
          "output_type": "execute_result",
          "data": {
            "text/plain": [
              "123"
            ]
          },
          "metadata": {},
          "execution_count": 5
        }
      ]
    },
    {
      "cell_type": "markdown",
      "source": [
        "#### Task 1.3"
      ],
      "metadata": {
        "id": "VLJJnYyOZ7S9"
      }
    },
    {
      "cell_type": "markdown",
      "source": [
        "Implement the rational function $\\hat{f}(x,a,b)$ in the cell below."
      ],
      "metadata": {
        "id": "_-FaVboUaDeE"
      }
    },
    {
      "cell_type": "code",
      "source": [
        "def f_hat(x, a, b):\n",
        "  \"\"\"\n",
        "  Computes f_hat(x, a, b)\n",
        "  Arguments:\n",
        "      x: a scalar argument\n",
        "      a: a vector of coefficients of P(x, a)\n",
        "      b: a vector of coefficients of Q(x, b)\n",
        "  Returns:\n",
        "      f_hat(x, a, b)\n",
        "  \"\"\"\n",
        "  # ToDo: \n",
        "  return P(x, a) / Q(x, b)"
      ],
      "metadata": {
        "id": "t3-CbditaEHT"
      },
      "execution_count": 6,
      "outputs": []
    },
    {
      "cell_type": "markdown",
      "source": [
        "Compute $\\hat{f}(x,a,b)$ for given $x$, $a$ and $b$. The output should be $0.203$."
      ],
      "metadata": {
        "id": "wChyW_JpYI3K"
      }
    },
    {
      "cell_type": "code",
      "source": [
        "x = 3\n",
        "a = np.array([2, 1, 3, 2])\n",
        "b = np.array([3, 1, 3, 4])\n",
        "print(np.around(f_hat(x, a, b), 3))"
      ],
      "metadata": {
        "colab": {
          "base_uri": "https://localhost:8080/"
        },
        "id": "veLi94syYJN_",
        "outputId": "bca14372-031d-4a04-fae1-aa55a0690cfb"
      },
      "execution_count": 7,
      "outputs": [
        {
          "output_type": "stream",
          "name": "stdout",
          "text": [
            "0.203\n"
          ]
        }
      ]
    },
    {
      "cell_type": "markdown",
      "source": [
        "## Exercise 2"
      ],
      "metadata": {
        "id": "BLlvNZHKbL-q"
      }
    },
    {
      "cell_type": "markdown",
      "source": [
        "Similarly to the linear least squares approach used for linear regression, the optimization problem for nonlinear regression is formulated as:"
      ],
      "metadata": {
        "id": "1b_R06N1wG8Q"
      }
    },
    {
      "cell_type": "markdown",
      "source": [
        "$$\\min_{a,b}J(x,a,b,y)=\\frac{1}{2}\\sum_{i=1}^n(y_i-\\hat{f}(x_i,a,b))^2,$$"
      ],
      "metadata": {
        "id": "4kMQnbTFpctu"
      }
    },
    {
      "cell_type": "markdown",
      "source": [
        "where $J(x,a,b,y)$ is the objective function, $x\\in\\mathbb{R}^n$ is a vector containing samples of the independent variable, $y\\in\\mathbb{R}^n$ is a vector containing samples of the dependent variable, $n$ is the number of samples in the dataset, and $\\hat{f}(x_i,a,b)$ is a nonlinear function."
      ],
      "metadata": {
        "id": "K-Xey8q0b6-R"
      }
    },
    {
      "cell_type": "markdown",
      "source": [
        "Despite the seeming similarity with the linear least squares approach, this type of regression is nonlinear because function $\\hat{f}(x,a,b)$ cannot be expressed as a linear combination of powers of $x$ and parameters $a$ and $b$."
      ],
      "metadata": {
        "id": "mNYthmOMuuZ9"
      }
    },
    {
      "cell_type": "markdown",
      "source": [
        "#### Task 2.1"
      ],
      "metadata": {
        "id": "ibbteimnyVrk"
      }
    },
    {
      "cell_type": "markdown",
      "source": [
        "Implement the objective function $J(x,a,b,y)$ in the cell below."
      ],
      "metadata": {
        "id": "3Cpr-2CdyZL1"
      }
    },
    {
      "cell_type": "code",
      "source": [
        "def J(x, a, b, y):\n",
        "  \"\"\"\n",
        "  Computes J(x, a, b, y)\n",
        "  Arguments:\n",
        "      x: a vector of inputs\n",
        "      a: a vector of coefficients of P(x, a)\n",
        "      b: a vector of coefficients of Q(x, b)\n",
        "      y: a vector of outputs\n",
        "  Returns:\n",
        "      J(x, a, b, y)\n",
        "  \"\"\"\n",
        "  # ToDo:\n",
        "  # Hint: use list comprehension and zip with two variables\n",
        "  return .5 * np.sum([(y_i - f_hat(x_i, a, b)) ** 2 for x_i, y_i in zip(x, y)])"
      ],
      "metadata": {
        "id": "ouiD_SW8yfvf"
      },
      "execution_count": 8,
      "outputs": []
    },
    {
      "cell_type": "markdown",
      "source": [
        "Compute $J(x,a,b,y)$ for given $x$, $a$, $b$ and $y$. The output should be $14.208$"
      ],
      "metadata": {
        "id": "auHAQKmB2V-5"
      }
    },
    {
      "cell_type": "code",
      "source": [
        "x = np.array([4, 6, 3, 2])\n",
        "a = np.array([2, 1, 3, 2])\n",
        "b = np.array([3, 1, 3, 4])\n",
        "y = np.array([2, 2, 3, 4])\n",
        "print(np.around(J(x, a, b, y), 3))"
      ],
      "metadata": {
        "colab": {
          "base_uri": "https://localhost:8080/"
        },
        "id": "vcHQg5oz25Fb",
        "outputId": "3b392f5e-e3c9-47ff-8207-85b87db54207"
      },
      "execution_count": 9,
      "outputs": [
        {
          "output_type": "stream",
          "name": "stdout",
          "text": [
            "14.208\n"
          ]
        }
      ]
    },
    {
      "cell_type": "markdown",
      "source": [
        "#### Task 2.2"
      ],
      "metadata": {
        "id": "8hFcT_wz5L5J"
      }
    },
    {
      "cell_type": "markdown",
      "source": [
        "Derive the partial derivative $\\frac{\\partial J}{\\partial a_l}$ where $a_l$ is an element of $a$ and $l=1,\\dots,p$."
      ],
      "metadata": {
        "id": "A5aV1CUN5Qq3"
      }
    },
    {
      "cell_type": "markdown",
      "source": [
        "**ToDo**\n",
        "\n",
        "$$\\frac{\\partial J}{\\partial a_l}=\\sum_{i=1}^n(y_i-\\hat{f}(x_i,a,b))\\bigg(-\\frac{x_i^{l-1}}{Q(x_i,b)}\\bigg)$$"
      ],
      "metadata": {
        "id": "hjiWudMk53-a"
      }
    },
    {
      "cell_type": "markdown",
      "source": [
        "Implement it as a function."
      ],
      "metadata": {
        "id": "jb2umSOVW1By"
      }
    },
    {
      "cell_type": "code",
      "source": [
        "def dJda_l(x, a, b, y, l):\n",
        "  \"\"\"\n",
        "  Computes the partial derivative of J(x, a, b, y) w.r.t. a_l\n",
        "  Arguments:\n",
        "      x: a scalar argument\n",
        "      a: a vector of coefficients of P(x, a)\n",
        "      b: a vector of coefficients of Q(x, b)\n",
        "      y: a scalar output\n",
        "      l: an index of the element of the vector a\n",
        "  Returns:\n",
        "      Partial derivative of J(x, a, b, y) w.r.t. a_l\n",
        "  \"\"\"\n",
        "  # ToDo:\n",
        "  return np.sum([(y_i - f_hat(x_i, a, b)) * (-x_i ** (l - 1) / Q(x_i, b)) for x_i, y_i in zip(x, y)])"
      ],
      "metadata": {
        "id": "DzIqzKT-W6DC"
      },
      "execution_count": 10,
      "outputs": []
    },
    {
      "cell_type": "markdown",
      "source": [
        "Compute $\\frac{\\partial J}{\\partial a_l}$ for given $x$, $a$, $b$, $y$ and $l=1,\\dots,4$. The output should be:\n",
        "\n",
        "-0.046\n",
        "\n",
        "-0.102\n",
        "\n",
        "-0.243\n",
        "\n",
        "-0.64"
      ],
      "metadata": {
        "id": "Qg-Ar95t32_F"
      }
    },
    {
      "cell_type": "code",
      "source": [
        "x = np.array([4, 6, 3, 2])\n",
        "a = np.array([2, 1, 3, 2])\n",
        "b = np.array([3, 1, 3, 4])\n",
        "y = np.array([2, 2, 3, 4])\n",
        "for l in range(1, 5):\n",
        "  print(np.around(dJda_l(x, a, b, y, l), 3))"
      ],
      "metadata": {
        "colab": {
          "base_uri": "https://localhost:8080/"
        },
        "id": "LClJVvQm4OaK",
        "outputId": "79d8c9a5-b8be-437f-b6d1-9ff1ad3e264d"
      },
      "execution_count": 11,
      "outputs": [
        {
          "output_type": "stream",
          "name": "stdout",
          "text": [
            "-0.046\n",
            "-0.102\n",
            "-0.243\n",
            "-0.64\n"
          ]
        }
      ]
    },
    {
      "cell_type": "markdown",
      "source": [
        "#### Task 2.3"
      ],
      "metadata": {
        "id": "oQgRqYAHcwQN"
      }
    },
    {
      "cell_type": "markdown",
      "source": [
        "Derive the partial derivative $\\frac{\\partial J}{\\partial b_l}$ where $b_l$ is an element of $b$ and $l=1,\\dots,q$."
      ],
      "metadata": {
        "id": "rC9hetLO6UUR"
      }
    },
    {
      "cell_type": "markdown",
      "source": [
        "**ToDo**\n",
        "\n",
        "$$\\frac{\\partial J}{\\partial b_l}=\\sum_{i=1}^n(y_i-\\hat{f}(x_i,a,b))\\frac{x_i^lP(x_i,a)}{Q^2(x_i,b)}=\\sum_{i=1}^n(y_i-\\hat{f}(x_i,a,b))\\frac{x_i^l\\hat{f}(x_i,a,b)}{Q(x_i,b)}$$"
      ],
      "metadata": {
        "id": "VVW27c0K6nwM"
      }
    },
    {
      "cell_type": "markdown",
      "source": [
        "Implement it as a function."
      ],
      "metadata": {
        "id": "syJBjlVNYVh3"
      }
    },
    {
      "cell_type": "code",
      "source": [
        "def dJdb_l(x, a, b, y, l):\n",
        "  \"\"\"\n",
        "  Computes the partial derivative of J(x, a, b, y) w.r.t. b_l\n",
        "  Arguments:\n",
        "      x: a scalar argument\n",
        "      a: a vector of coefficients of P(x, a)\n",
        "      b: a vector of coefficients of Q(x, b)\n",
        "      y: a scalar output\n",
        "      l: an index of the element of the vector b\n",
        "  Returns:\n",
        "      Partial derivative of J(x, a, b, y) w.r.t. b_l\n",
        "  \"\"\"\n",
        "  # ToDo:\n",
        "  return np.sum([(y_i - f_hat(x_i, a, b)) * (x_i ** l * f_hat(x_i, a, b) / Q(x_i, b)) for x_i, y_i in zip(x, y)])"
      ],
      "metadata": {
        "id": "M_OHvYiUYYWD"
      },
      "execution_count": 12,
      "outputs": []
    },
    {
      "cell_type": "markdown",
      "source": [
        "Compute $\\frac{\\partial J}{\\partial b_l}$ for given $x$, $a$, $b$, $y$ and $l=1,\\dots,4$. The output should be:\n",
        "\n",
        "0.029\n",
        "\n",
        "0.065\n",
        "\n",
        "0.153\n",
        "\n",
        "0.395"
      ],
      "metadata": {
        "id": "k9o6JeT04zOg"
      }
    },
    {
      "cell_type": "code",
      "source": [
        "x = np.array([4, 6, 3, 2])\n",
        "a = np.array([2, 1, 3, 2])\n",
        "b = np.array([3, 1, 3, 4])\n",
        "y = np.array([2, 2, 3, 4])\n",
        "for l in range(1, 5):\n",
        "  print(np.around(dJdb_l(x, a, b, y, l), 3))"
      ],
      "metadata": {
        "colab": {
          "base_uri": "https://localhost:8080/"
        },
        "id": "Xd435vpS444K",
        "outputId": "ee778f58-096c-432d-9441-b4ba1a1a7e8f"
      },
      "execution_count": 13,
      "outputs": [
        {
          "output_type": "stream",
          "name": "stdout",
          "text": [
            "0.029\n",
            "0.065\n",
            "0.153\n",
            "0.395\n"
          ]
        }
      ]
    },
    {
      "cell_type": "markdown",
      "source": [
        "#### Task 2.4"
      ],
      "metadata": {
        "id": "SrZk6WIaanW6"
      }
    },
    {
      "cell_type": "markdown",
      "source": [
        "The gradients of $J(x,a,b,y)$ w.r.t. $a$ and $b$ are vectors of partial derivatives w.r.t. $a_j$ and $b_k$ respectively, namely:"
      ],
      "metadata": {
        "id": "e3o-snpMarjO"
      }
    },
    {
      "cell_type": "markdown",
      "source": [
        "$$\\nabla_aJ(x,a,b,y)=\\begin{bmatrix}\\frac{\\partial J}{\\partial a_1} & \\frac{\\partial J}{\\partial a_2} & \\dots & \\frac{\\partial J}{\\partial a_p}\\end{bmatrix}^T,$$\n",
        "\n",
        "$$\\nabla_bJ(x,a,b,y)=\\begin{bmatrix}\\frac{\\partial J}{\\partial b_1} & \\frac{\\partial J}{\\partial b_2} & \\dots & \\frac{\\partial J}{\\partial b_q}\\end{bmatrix}^T.$$"
      ],
      "metadata": {
        "id": "21HZl4ahbT0B"
      }
    },
    {
      "cell_type": "markdown",
      "source": [
        "Implement these two gradients as functions in the cell below using functions **dJda_l(x, a, b, y, l)** and **dJdb_l(x, a, b, y, l)** from the previous tasks."
      ],
      "metadata": {
        "id": "lg1dozx5bZlk"
      }
    },
    {
      "cell_type": "code",
      "source": [
        "def dJda(x, a, b, y):\n",
        "  \"\"\"\n",
        "  Computes the gradient of J(x, a, b, y) w.r.t. the vector a\n",
        "  Arguments:\n",
        "      x: a scalar argument\n",
        "      a: a vector of coefficients of P(x, a)\n",
        "      b: a vector of coefficients of Q(x, b)\n",
        "      y: a scalar output\n",
        "  Returns:\n",
        "      Gradient of J(x, a, b, y) w.r.t. the vector a\n",
        "  \"\"\"\n",
        "  # ToDo:\n",
        "  return np.array([dJda_l(x, a, b, y, l) for l in range(1, a.size + 1)])\n",
        "\n",
        "def dJdb(x, a, b, y):\n",
        "  \"\"\"\n",
        "  Computes the gradient of J(x, a, b, y) w.r.t. the vector b\n",
        "  Arguments:\n",
        "      x: a scalar argument\n",
        "      a: a vector of coefficients of P(x, a)\n",
        "      b: a vector of coefficients of Q(x, b)\n",
        "      y: a scalar output\n",
        "  Returns:\n",
        "      Gradient of J(x, a, b, y) w.r.t. the vector b\n",
        "  \"\"\"\n",
        "  # ToDo:\n",
        "  return np.array([dJdb_l(x, a, b, y, l) for l in range(1, b.size + 1)])"
      ],
      "metadata": {
        "id": "e8zaBMI6bq2E"
      },
      "execution_count": 14,
      "outputs": []
    },
    {
      "cell_type": "markdown",
      "source": [
        "Compute $\\nabla_aJ(x,a,b,y)$ and $\\nabla_bJ(x,a,b,y)$ for given $x$, $a$, $b$ and $y$. The output should be:\n",
        "\n",
        "[-0.046 -0.102 -0.243 -0.64 ]\n",
        "\n",
        "[0.029 0.065 0.153 0.395]"
      ],
      "metadata": {
        "id": "rVdgNyPN5SDP"
      }
    },
    {
      "cell_type": "code",
      "source": [
        "x = np.array([4, 6, 3, 2])\n",
        "a = np.array([2, 1, 3, 2])\n",
        "b = np.array([3, 1, 3, 4])\n",
        "y = np.array([2, 2, 3, 4])\n",
        "print(np.around(dJda(x, a, b, y,), 3))\n",
        "print(np.around(dJdb(x, a, b, y,), 3))"
      ],
      "metadata": {
        "colab": {
          "base_uri": "https://localhost:8080/"
        },
        "id": "x4bAwl5w5pVS",
        "outputId": "3f74b66c-9ede-4060-9666-dfd08a8ed442"
      },
      "execution_count": 15,
      "outputs": [
        {
          "output_type": "stream",
          "name": "stdout",
          "text": [
            "[-0.046 -0.102 -0.243 -0.64 ]\n",
            "[0.029 0.065 0.153 0.395]\n"
          ]
        }
      ]
    },
    {
      "cell_type": "markdown",
      "source": [
        "## Exercise 3"
      ],
      "metadata": {
        "id": "Y9U5324IdT3b"
      }
    },
    {
      "cell_type": "markdown",
      "source": [
        "To determine the optimal parameters $a$ and $b$ we have to solve the optimization problem formulated in **Excerise 2**. The objective function is highly nonlinear and hence lacks the closed-form solution leading to iterative optimization. To solve the optimization problem we will use the Broyden–Fletcher–Goldfarb–Shanno (BFGS) algorithm from the SciPy library. Unlike Newton's method, it uses gradients to approximate the inverse Hessian of the objective function. This is why we needed to derive the gradients in the previous exercise: they will be supplied to the BFGS algorithm."
      ],
      "metadata": {
        "id": "dBLu_QuodV6e"
      }
    },
    {
      "cell_type": "markdown",
      "source": [
        "We would also like to make a comparison between linear and nonlinear regression. First, we define the class **LLSestimator** that provides the functionality of linear regression based on the linear least squares approach. It has the method **fit(x, y)** that estimates the parameters of the linear model, and the method **predict(x)** that predicts the outputs for the given inputs. The private method **genA(x)** is used to generate the matrix $A$ containing the powers of $x$ as in the previous practice, which takes part in the implementation of the methods **fit(x, y)** and **predict(x)**."
      ],
      "metadata": {
        "id": "N7kwf1qEfDiV"
      }
    },
    {
      "cell_type": "code",
      "source": [
        "import numpy.linalg as la\n",
        "\n",
        "class LLSestimator:\n",
        "  \"\"\"\n",
        "  Linear least squares estimator\n",
        "  \"\"\"\n",
        "\n",
        "  def __init__(self, m):\n",
        "    \"\"\"\n",
        "    Creates a linear least squares estimator\n",
        "    Arguments:\n",
        "        m: a degree of the polynomial\n",
        "    Returns:\n",
        "        Linear least squares estimator\n",
        "    \"\"\"\n",
        "    self.m = m\n",
        "\n",
        "  def __genA(self, x):\n",
        "    \"\"\"\n",
        "    Generates the matrix A containing powers of x from 0 to m\n",
        "    Arguments:\n",
        "        x: a vector of inputs\n",
        "    Returns:\n",
        "        The matrix A containing powers of x from 0 to m\n",
        "    \"\"\"\n",
        "    # Allocate memory for the matrix\n",
        "    A = np.zeros((x.size, self.m + 1))\n",
        "\n",
        "    # Fill the first (ones) and the second (first power of x) column\n",
        "    A[:, 0] = np.ones(x.size)\n",
        "    A[:, 1] = x\n",
        "\n",
        "    # Fill the rest columns (powers of x from 2 to m)\n",
        "    for i in range(2, self.m + 1):\n",
        "      A[:, i] = x ** i\n",
        "\n",
        "    # Return the matrix A\n",
        "    return A\n",
        "\n",
        "  def fit(self, x, y):\n",
        "    \"\"\"\n",
        "    Estimates the parameters w of the model\n",
        "    Arguments:\n",
        "        x: a vector of inputs\n",
        "        y: a vector of outputs\n",
        "    \"\"\"\n",
        "    # Generate the matrix A\n",
        "    A = self.__genA(x)\n",
        "\n",
        "    # Compute the parameters w\n",
        "    self.w = np.dot(la.inv(np.dot(A.T, A)), np.dot(A.T, y))\n",
        "\n",
        "  def predict(self, x):\n",
        "    \"\"\"\n",
        "    Predicts the outputs based on the input\n",
        "    Arguments:\n",
        "        x: a vector of inputs\n",
        "    Returns:\n",
        "        The vector of outputs\n",
        "    \"\"\"\n",
        "    # Generate the matrix A\n",
        "    A = self.__genA(x)\n",
        "\n",
        "    # Return the outputs\n",
        "    return np.dot(A, self.w)"
      ],
      "metadata": {
        "id": "gfhQhyElK2I1"
      },
      "execution_count": 16,
      "outputs": []
    },
    {
      "cell_type": "markdown",
      "source": [
        "Further we define the class **NLLSestimator** for estimating the parameters of the nonlinear relationship $\\hat{f}(x,a,b)$ described earlier. It uses the BFGS method from SciPy library to determine optimal $a$ and $b$. The SciPy implementation of BFGS requires two functions namely the objective function **obj(w)** and the gradient of the objective function **grad(w)**. The only argument of these functions is the vector $w$ being a concatentation of vectors $a$ and $b$. Analogously, the function **grad(w)** should return a concatenation of the gradients $\\nabla_aJ(x,a,b,y)$ and $\\nabla_bJ(x,a,b,y)$. The private method **w2ab(w)** splits the vector $w$ into the vectors $a$ and $b$ so that the methods **obj(w)** and **grad(w)** are compatible with the functions **dJda(x, a, b, y)** and **dJdb(x, a, b, y)** from the previous excercises, and can be called from the SciPy implementation of the BFGS method. The method **fit(x, y)** estimates the parameters $a$ and $b$ using the BFGS algorithm, and the method **predict(x)** predicts the outputs based on the given inputs."
      ],
      "metadata": {
        "id": "i5EiJ7nBhWCy"
      }
    },
    {
      "cell_type": "code",
      "source": [
        "from scipy.optimize import minimize\n",
        "\n",
        "class NLLSestimator:\n",
        "  \"\"\"\n",
        "  Nonlinear least squares estimator\n",
        "  \"\"\"\n",
        "\n",
        "  def __init__(self, p, q):\n",
        "    \"\"\"\n",
        "    Creates a nonlinear least squares estimator\n",
        "    Arguments:\n",
        "        p: a degree of the polynomial P(x, a)\n",
        "        q: a degree of the polynomial Q(x, b)\n",
        "    Returns:\n",
        "        Nonlinear least squares estimator\n",
        "    \"\"\"\n",
        "    self.p = p\n",
        "    self.q = q\n",
        "\n",
        "  def __w2ab(self, w):\n",
        "    \"\"\"\n",
        "    Splits the vector w into the vectors a and b\n",
        "    Arguments:\n",
        "        w: a vector of the model parameters from BFGS\n",
        "    Returns:\n",
        "        The vectors a and b\n",
        "    \"\"\"\n",
        "    # Extract the vector a\n",
        "    a = w[0:self.p]\n",
        "\n",
        "    # Extract the vector b\n",
        "    b = w[self.p:]\n",
        "\n",
        "    # Return a, b\n",
        "    return a, b\n",
        "\n",
        "  def __obj(self, w):\n",
        "    \"\"\"\n",
        "    The objective function for the BFGS method\n",
        "    Arguments:\n",
        "        w: a vector of the model parameters from BFGS\n",
        "    Returns:\n",
        "        The vectors a and b\n",
        "    \"\"\"\n",
        "    # Split w into a and b\n",
        "    a, b = self.__w2ab(w)\n",
        "\n",
        "    # Return J(x, a, b, y)\n",
        "    return J(x, a, b, y)\n",
        "\n",
        "  def __grad(self, w):\n",
        "    \"\"\"\n",
        "    The gradient of the objective function for the BFGS method\n",
        "    Arguments:\n",
        "        w: a vector of the model parameters from BFGS\n",
        "    Returns:\n",
        "        The gradient for the BFGS method\n",
        "    \"\"\"\n",
        "    # Split w into a and b\n",
        "    a, b = self.__w2ab(w)\n",
        "\n",
        "    # Compute dJda(x, a, b, y) and dJdb(x, a, b, y)\n",
        "    dJda_val = dJda(x, a, b, y)\n",
        "    dJdb_val = dJdb(x, a, b, y)\n",
        "\n",
        "    # Construct the BFGS gradient\n",
        "    grad = np.concatenate([dJda_val, dJdb_val])\n",
        "\n",
        "    # Return the BFGS gradient\n",
        "    return grad\n",
        "\n",
        "  def fit(self, x, y):\n",
        "    \"\"\"\n",
        "    Estimates the parameters w of the model using the BFGS method\n",
        "    Arguments:\n",
        "        x: a vector of inputs\n",
        "        y: a vector of outputs\n",
        "    \"\"\"\n",
        "    # Run the optimization via the BFGS method\n",
        "    w0 = np.zeros((self.p + self.q, 1))\n",
        "    res = minimize(self.__obj, w0, method='BFGS', jac=self.__grad,\n",
        "                options={'disp': True})\n",
        "\n",
        "    # Extract the results\n",
        "    a, b = self.__w2ab(res.x)\n",
        "\n",
        "    # Save the results\n",
        "    self.a = a\n",
        "    self.b = b\n",
        "\n",
        "  def predict(self, x):\n",
        "    \"\"\"\n",
        "    Predicts the outputs based on the input\n",
        "    Arguments:\n",
        "        x: a vector of inputs\n",
        "    Returns:\n",
        "        The vector of outputs\n",
        "    \"\"\"\n",
        "    # Return the outputs\n",
        "    return np.array([f_hat(x_i, self.a, self.b) for x_i in x])"
      ],
      "metadata": {
        "id": "T7vwfM1lOJ90"
      },
      "execution_count": 17,
      "outputs": []
    },
    {
      "cell_type": "markdown",
      "source": [
        "Now we generate the dataset to compare linear and nonlinear regression. The data are assumed to be measurements of the step response of a low-pass filter. We generate the dataset by evaluating the following function (step response) at $10$ equidistant points between $x_1=0$ and $x_2=1.25$:"
      ],
      "metadata": {
        "id": "IVz2xtIGlh3D"
      }
    },
    {
      "cell_type": "markdown",
      "source": [
        "$$f(x)=V_{in}(1-e^{-\\frac{x}{RC}}),$$"
      ],
      "metadata": {
        "id": "e9srb2Edndyf"
      }
    },
    {
      "cell_type": "markdown",
      "source": [
        "where $V_{in}=5$$, R = 4.7\\times10^3$, and $C = 33\\times10^{-6}$."
      ],
      "metadata": {
        "id": "fQwrChoypG5U"
      }
    },
    {
      "cell_type": "code",
      "source": [
        "import matplotlib.pyplot as plt\n",
        "\n",
        "def f(x):\n",
        "  \"\"\"\n",
        "  Original function f(x)\n",
        "  Arguments:\n",
        "      x: a vector of inputs\n",
        "  Returns:\n",
        "      The vector of outputs\n",
        "  \"\"\"\n",
        "  return 5 * (1 - np.exp(-x / (4.7e+3 * 33e-6)))\n",
        "\n",
        "# Define the number of samples\n",
        "n = 10\n",
        "\n",
        "# Define the sampling boundaries\n",
        "x1 = 0.00\n",
        "x2 = 1.25\n",
        "\n",
        "# Define the noise parameters\n",
        "mean = 0\n",
        "std = .25\n",
        "\n",
        "# Ensure reproducibility by making random number generator produce the same \n",
        "# values at new executions\n",
        "np.random.seed(42)\n",
        "\n",
        "# Generate the initial and the noisy samples\n",
        "x = np.linspace(x1, x2, n)\n",
        "y_initial = f(x)\n",
        "y = y_initial + np.random.normal(mean, std, n)\n",
        "\n",
        "# Plot the samples\n",
        "plt.figure(figsize=(8, 6))\n",
        "plt.plot(x, y, 'y.')\n",
        "plt.plot(x, y_initial, 'm-')\n",
        "plt.legend(['Dataset', 'Initial curve'])\n",
        "plt.grid()\n",
        "plt.show()"
      ],
      "metadata": {
        "colab": {
          "base_uri": "https://localhost:8080/",
          "height": 374
        },
        "id": "SuP68N9Plrxg",
        "outputId": "6ccf42e4-23e0-410f-ba9c-c52a78da486d"
      },
      "execution_count": 18,
      "outputs": [
        {
          "output_type": "display_data",
          "data": {
            "text/plain": [
              "<Figure size 576x432 with 1 Axes>"
            ],
            "image/png": "[encoded data removed]"
          },
          "metadata": {
            "needs_background": "light"
          }
        }
      ]
    },
    {
      "cell_type": "markdown",
      "source": [
        "Now let us create and fit the models for both linear and nonlinear regression. After that, we use the estimators to predict the outputs for the same inputs they were fitted on."
      ],
      "metadata": {
        "id": "q6093BDxyNuh"
      }
    },
    {
      "cell_type": "code",
      "source": [
        "# Create and fit the linear least squares estimator\n",
        "lls = LLSestimator(5)\n",
        "lls.fit(x, y)\n",
        "\n",
        "# Create and fit the nonlinear least squares estimator\n",
        "nlls = NLLSestimator(3, 2)\n",
        "nlls.fit(x, y)\n",
        "\n",
        "# Predict the outputs using both types of regression\n",
        "y_lls = lls.predict(x)\n",
        "y_nlls = nlls.predict(x)\n",
        "\n",
        "# Plot the results\n",
        "plt.figure(figsize=(8, 6))\n",
        "plt.plot(x, y, 'y.')\n",
        "plt.plot(x, y_initial, 'm-')\n",
        "plt.plot(x, y_lls, 'r-')\n",
        "plt.plot(x, y_nlls, 'g-')\n",
        "plt.legend(['Dataset', 'Initial Curve', 'Linear Least Squares', 'Nonlinear Least Squares'])\n",
        "plt.grid()\n",
        "plt.show()"
      ],
      "metadata": {
        "colab": {
          "base_uri": "https://localhost:8080/",
          "height": 461
        },
        "id": "q6BheGZjXM6j",
        "outputId": "f4a36a1d-2e26-4c8e-fb8d-0aa95661b4e0"
      },
      "execution_count": 19,
      "outputs": [
        {
          "output_type": "stream",
          "name": "stdout",
          "text": [
            "Optimization terminated successfully.\n",
            "         Current function value: 0.125555\n",
            "         Iterations: 73\n",
            "         Function evaluations: 78\n",
            "         Gradient evaluations: 78\n"
          ]
        },
        {
          "output_type": "display_data",
          "data": {
            "text/plain": [
              "<Figure size 576x432 with 1 Axes>"
            ],
            "image/png": "[encoded data removed]"
          },
          "metadata": {
            "needs_background": "light"
          }
        }
      ]
    },
    {
      "cell_type": "markdown",
      "source": [
        "At the first glance, both linear and nonlinear regression accomplished the task. Let us take a closer look at the points between $x_1=0.25$ and $x_2=1.5$. Note that the values starting from $x=1.25$ are beyond the initial dataset: they should reveal the extrapolation capabilities of both types of regression. "
      ],
      "metadata": {
        "id": "qYS45e4PoKPn"
      }
    },
    {
      "cell_type": "code",
      "source": [
        "# Define the new number of samples\n",
        "n_new = 50\n",
        "\n",
        "# Define the new sampling boundaries\n",
        "x1_new = 0.25\n",
        "x2_new = 1.50\n",
        "\n",
        "# Generate the initial samples for the new sampling boundaries\n",
        "x_new = np.linspace(x1_new, x2_new, n_new)\n",
        "y_initial_new = f(x_new)\n",
        "\n",
        "# Predict values using LLS and NLLS within the new boundaries\n",
        "y_lls_new = lls.predict(x_new)\n",
        "y_nlls_new = nlls.predict(x_new)\n",
        "\n",
        "# Plot the results\n",
        "plt.figure(figsize=(8, 6))\n",
        "plt.plot(x_new, y_initial_new, 'm-')\n",
        "plt.plot(x_new, y_lls_new, 'r-')\n",
        "plt.plot(x_new, y_nlls_new, 'g-')\n",
        "plt.legend(['Initial Curve', 'Linear Least Squares', 'Nonlinear Least Squares'])\n",
        "plt.grid()\n",
        "plt.show()"
      ],
      "metadata": {
        "id": "kp7Tlzbh87Vc",
        "colab": {
          "base_uri": "https://localhost:8080/",
          "height": 374
        },
        "outputId": "8a3d9348-097d-4b83-f53d-ef48250c86b7"
      },
      "execution_count": 20,
      "outputs": [
        {
          "output_type": "display_data",
          "data": {
            "text/plain": [
              "<Figure size 576x432 with 1 Axes>"
            ],
            "image/png": "[encoded data removed]"
          },
          "metadata": {
            "needs_background": "light"
          }
        }
      ]
    },
    {
      "cell_type": "markdown",
      "source": [
        "In the beginning linear regression demonstrates slight oscillations in comparison to the steady behavior of nonlinear regression. Starting from $x=1.25$ linear regression drastically increases and tends to infinity, whereas nonlinear regression stays practically constant as suggested by the original function $f(x)$. Thus, unlike linear regression, nonlinear regression is able to capture the asymptotic behavior and extrapolate a function having asymptotic properties."
      ],
      "metadata": {
        "id": "fgkdskn1piDs"
      }
    },
    {
      "cell_type": "markdown",
      "source": [
        "In the course of these exercises, we have worked with one particular nonlinear function, however, nonlinear regression is not limited by a certain kind of function: any nonlinear function can be subjected to nonlinear regression. Nevertheless, it can be quite difficult to properly choose a suitable nonlinear function, since we have to have some insights into the process or phenomenon behind the dataset. Thus, when working with data of unknown nature the best option is to start with linear regression, and if it fails to adequately capture the behavior of the data then go to nonlinear regression."
      ],
      "metadata": {
        "id": "OrYipXb6aQoa"
      }
    }
  ]
}