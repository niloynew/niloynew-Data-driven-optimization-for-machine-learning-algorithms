{
  "cells": [
    {
      "cell_type": "markdown",
      "metadata": {
        "id": "A43K8ctnhc3X"
      },
      "source": [
        "# DDO4MLA Assignment 1"
      ]
    },
    {
      "cell_type": "markdown",
      "metadata": {
        "id": "n1MmW1Qihn2g"
      },
      "source": [
        "## Introduction"
      ]
    },
    {
      "cell_type": "markdown",
      "metadata": {
        "id": "78FVKWkTYcrP"
      },
      "source": [
        "In this assignment, two gradient-based optimization algorithms are to be implemented, namely, Adaptive Gradient (AdaGrad) and Root Mean Squared Propagation (RMSProp). Perform the assignment by writing your code below the **ToDo** comments. Each such comment provides a brief description of what your code should do and the amount of points you will get for the correctly written code."
      ]
    },
    {
      "cell_type": "markdown",
      "metadata": {
        "id": "e9esjgxH7c8v"
      },
      "source": [
        "## Task 1"
      ]
    },
    {
      "cell_type": "markdown",
      "metadata": {
        "id": "vj5lfuUM7mO1"
      },
      "source": [
        "In this task the termination condition in the method **run(key='default')** of the class **Optimizer** from the **Practice 7** is to be improved. Previously this method computed 2-norm only for **last_deltas[key][0]**, i.e. the first delta of the parameter **key**. We want this method to compute the 2-norm of a vector containing all deltas of all parameters.\n",
        "\n",
        "For example, suppose we have two matrices $W_1=\\begin{bmatrix}w_{11}^1 & w_{12}^1\\\\w_{21}^1 & w_{22}^1\\end{bmatrix}$, $W_2=\\begin{bmatrix}w_{11}^2 & w_{12}^2\\\\w_{21}^2 & w_{22}^2\\end{bmatrix}$ associated with the key **'W'**, and two vectors $b_1=\\begin{bmatrix}b_{1}^1\\\\b_{2}^1\\end{bmatrix}$, $b_2=\\begin{bmatrix}b_{1}^2\\\\b_{2}^2\\end{bmatrix}$ associated with the key **'b'**. Then after a certain number of iterations the dictionary **last_deltas** will contain two lists **[W1, W2]** and **[b1, b2]** of deltas corresponding to the keys **'W'** and **'b'** respectively:\n",
        "\n",
        "*last_deltas = {*\n",
        "\n",
        "  *'W': [W1, W2],*\n",
        "  \n",
        "  *'b': [b1, b2]*\n",
        "\n",
        "*}*\n",
        "\n",
        "In this case the method **run()** should compute 2-norm of the following vector:\n",
        "\n",
        "$$\\begin{bmatrix}w_{11}^1 & w_{21}^1 & w_{12}^1 & w_{22}^1 & w_{11}^2 & w_{21}^2 & w_{12}^2 & w_{22}^2 & b_1^1 & b_2^1 & b_1^2 & b_2^2\\end{bmatrix}^T.$$"
      ]
    },
    {
      "cell_type": "markdown",
      "metadata": {
        "id": "61_3eG1bLJkG"
      },
      "source": [
        "**Task:** write your code below the **ToDo** comment in the function **deltas_norm(deltas)** computing 2-norm of a vector containing all deltas of all parameters."
      ]
    },
    {
      "cell_type": "code",
      "execution_count": 1,
      "metadata": {
        "id": "rEvj9nEDDgJO"
      },
      "outputs": [],
      "source": [
        "import numpy as np\n",
        "import numpy.linalg as la\n",
        "\n",
        "def deltas_norm(deltas):\n",
        "  \"\"\"\n",
        "  Computes 2-norm of a vector containing all deltas of all parameters.\n",
        "  This function is called in Optimizer.run()\n",
        "  Arguments:\n",
        "      deltas: a dictionary containing all deltas of all parameters\n",
        "  Returns:\n",
        "      2-norm of a vector containing all deltas of all parameters\n",
        "  \"\"\"\n",
        "  # ToDo: Compute the 2-norm of all deltas of all parameters (2 points)\n",
        "  deltas_vector = np.concatenate([np.array(d).flatten() for d in deltas.values()])\n",
        "  deltas_norm = la.norm(deltas_vector, 2)\n",
        "\n",
        "  # Return deltas 2-norm\n",
        "  return deltas_norm\n",
        "\n",
        "class Optimizer:\n",
        "  \"\"\"\n",
        "  Optimizer\n",
        "  \"\"\"\n",
        "\n",
        "  def __init__(self, alpha, max_iter, eps, record):\n",
        "    \"\"\"\n",
        "    Initializes an instance of the optimizer\n",
        "    Arguments:\n",
        "        alpha: a step size\n",
        "        max_iter: a maximum number of iterations\n",
        "        eps: a tolerance value\n",
        "        record: a flag for recording optimization history\n",
        "    \"\"\"\n",
        "    self.alpha = alpha\n",
        "    self.max_iter = max_iter\n",
        "    self.eps = eps\n",
        "    self.record = record\n",
        "    self.iter = None\n",
        "    self.last_deltas = {}\n",
        "    self.history = {}\n",
        "\n",
        "  def _deltas(self, grads, key):\n",
        "    \"\"\"\n",
        "    Computes the deltas based on the gradients\n",
        "    Arguments:\n",
        "        values: a list containing the current values of the parameter\n",
        "        grads: a list containing the current gradients of the parameter\n",
        "        key: a key identifying the type of the parameter\n",
        "    Returns:\n",
        "        The list containing the updated values of the parameter\n",
        "    \"\"\"\n",
        "    pass\n",
        "\n",
        "  def update(self, values, grads, key='default'):\n",
        "    \"\"\"\n",
        "    Updates the parameters\n",
        "    Arguments:\n",
        "        values: a list containing the current values of the parameter\n",
        "        grads: a list containing the current gradients of the parameter\n",
        "        key: a key identifying the type of the parameter\n",
        "    Returns:\n",
        "        The list containing the updated values of the parameter\n",
        "    \"\"\"\n",
        "    # Wrap the values and deltas if necessary\n",
        "    if type(values) is not list:\n",
        "      values = [values]\n",
        "    if type(grads) is not list:\n",
        "      grads = [grads]\n",
        "\n",
        "    # Compute the deltas\n",
        "    deltas = self._deltas(grads, key)\n",
        "\n",
        "    # Compute the updated values\n",
        "    updated_values = [value + delta for value, delta in zip(values, deltas)]\n",
        "\n",
        "    # Store the updated values if necessary\n",
        "    if self.record:\n",
        "      if key not in self.history:\n",
        "        self.history[key] = [values]\n",
        "      self.history[key].append(updated_values)\n",
        "\n",
        "    # Unwrap the updated values if necessary\n",
        "    if len(updated_values) < 2:\n",
        "      updated_values = updated_values[0]\n",
        "\n",
        "    # Return the updated values\n",
        "    return updated_values\n",
        "\n",
        "  def run(self):\n",
        "    \"\"\"\n",
        "    Updates the iteration counter and checks the termination criteria\n",
        "    Returns:\n",
        "        False if the optimization should be terminated, and True otherwise\n",
        "    \"\"\"\n",
        "    # Initialize the iteration counter\n",
        "    if self.iter is None:\n",
        "      self.iter = 0\n",
        "      return True\n",
        "\n",
        "    # Increment the iteration counter\n",
        "    self.iter = self.iter + 1\n",
        "\n",
        "    # Check the iteration counter\n",
        "    if self.iter > self.max_iter - 1:\n",
        "      return False\n",
        "\n",
        "    # Check the deltas norm\n",
        "    if deltas_norm(self.last_deltas) < self.eps:\n",
        "      return False\n",
        "\n",
        "    return True\n",
        "\n",
        "  def get_iter(self):\n",
        "    \"\"\"\n",
        "    Returns the iteration counter\n",
        "    Returns:\n",
        "        The iteration counter\n",
        "    \"\"\"\n",
        "    return self.iter\n",
        "\n",
        "  def get_history(self, key='default'):\n",
        "    \"\"\"\n",
        "    Returns the optimization history\n",
        "    Arguments:\n",
        "        key: a key identifying the type of the parameter\n",
        "    Returns:\n",
        "        The optimization history for the parameter with a specified key\n",
        "    \"\"\"\n",
        "    # Retrieve the history\n",
        "    history = [np.array([h[i] for h in self.history[key]]) for i in range(0, len(self.history[key][0]))]\n",
        "\n",
        "    # Unwrap the history if necessary\n",
        "    if len(history) < 2:\n",
        "      history = history[0]\n",
        "\n",
        "    # Return the history\n",
        "    return history"
      ]
    },
    {
      "cell_type": "markdown",
      "metadata": {
        "id": "bP5PY11vTe-C"
      },
      "source": [
        "Test the function **deltas_norm(deltas)** in the cell below. Execution of the cell below should yield a result of $18.083$."
      ]
    },
    {
      "cell_type": "code",
      "execution_count": 2,
      "metadata": {
        "id": "cZkjIHGDThlT",
        "colab": {
          "base_uri": "https://localhost:8080/"
        },
        "outputId": "6fb6bacc-845d-48dd-f15d-29ee476cb905"
      },
      "outputs": [
        {
          "output_type": "stream",
          "name": "stdout",
          "text": [
            "18.083\n"
          ]
        }
      ],
      "source": [
        "# Create a dictionary containing 2 deltas for 'W' and 2 deltas for 'b'\n",
        "deltas = {\n",
        "    'W': [\n",
        "          np.array([[4, 2],\n",
        "                    [5, 7]]),\n",
        "          np.array([[7, 9],\n",
        "                    [3, 4]])\n",
        "    ],\n",
        "    'b': [\n",
        "          np.array([3, 8]),\n",
        "          np.array([2, 1])\n",
        "    ]\n",
        "}\n",
        "\n",
        "# Compute and print the 2-norm of the deltas\n",
        "print(np.around(deltas_norm(deltas), 3))"
      ]
    },
    {
      "cell_type": "markdown",
      "metadata": {
        "id": "7D1xwP8IEh9X"
      },
      "source": [
        "## Task 2"
      ]
    },
    {
      "cell_type": "markdown",
      "metadata": {
        "id": "bh2l9NxiEyEG"
      },
      "source": [
        "AdaGrad as opposed to ordinary gradient descent adapts the learning rate (step length) $\\alpha$ for each parameter individually as the learning (optimization) progresses. Suppose we have a function $f(x):\\mathbb{R}^m\\rightarrow\\mathbb{R}$ that we wish to minimize and $x\\in\\mathbb{R}^m$. When using AdaGrad each element $x_j$ of the vector $x$ receives its own adaptive learning rate based on the initial learning rate $\\alpha$. Introducing different learning rates for different parameters helps to address sparse features: the frequency of their occurrence is lower than the one of dense features. Therefore, sparse parameters require higher learning rates [[1](#references)]. The update procedure of $x_j$ for AdaGrad is:"
      ]
    },
    {
      "cell_type": "markdown",
      "metadata": {
        "id": "9XbmcMBtkgNs"
      },
      "source": [
        "$$\\nu_{curr,j}=\\nu_{prev,j}+\\bigg(\\frac{\\partial f}{\\partial x_j}(x_{prev,j})\\bigg)^2,$$\n",
        "\n",
        "$$\\Delta x_{curr,j}=-\\frac{\\alpha}{\\sqrt{\\lambda+\\nu_{curr,j}}}\\frac{\\partial f}{\\partial x_j}(x_{prev,j}),$$\n",
        "\n",
        "$$x_{curr,j}=x_{prev,j}-\\Delta x_{curr,j},$$"
      ]
    },
    {
      "cell_type": "markdown",
      "metadata": {
        "id": "lPEGdFvXJuww"
      },
      "source": [
        "where $\\nu_{curr,j}$ is the current sum of partial derivatives of $f(x)$ w.r.t. $x_j$, $\\nu_{prev,j}$ is the previous sum of squared partial derivatives of $f(x)$ w.r.t. $x_j$, $x_{prev,j}$ is the previous value of $x_j$, $\\Delta x_{curr,j}$ is the current delta of $x_j$, $\\alpha$ is the initial learning rate, $\\lambda$ is a small positive constant (usually $10^{-8}$) to avoid division by zero, and $x_{curr,j}$ is the current value of $x_j$.\n",
        "\n",
        "The learning rate for each parameter is inversely proportional to the sum of its squared partial derivatives, which results in a constant decrease in the learning rate. Thus, learning rates associated with dense features will decrease faster than the ones associated with sparse features."
      ]
    },
    {
      "cell_type": "markdown",
      "metadata": {
        "id": "OJcC6p1dheHJ"
      },
      "source": [
        "**Task:** write your code below the **ToDo** comments in the method **_deltas(grads, key)** according to AdaGrad update procedure."
      ]
    },
    {
      "cell_type": "code",
      "execution_count": 3,
      "metadata": {
        "id": "iB_BvPN_D2pF"
      },
      "outputs": [],
      "source": [
        "class AdaGradOptimizer(Optimizer):\n",
        "  \"\"\"\n",
        "  AdaGrad optimizer\n",
        "  \"\"\"\n",
        "\n",
        "  def __init__(self, alpha, Lambda=1e-8, max_iter=5000, eps=1e-3, record=False):\n",
        "    \"\"\"\n",
        "    Initializes an instance of the gradient descent optimizer with momentum\n",
        "    Arguments:\n",
        "        alpha: a learning rate\n",
        "        Lambda: a small positive constant\n",
        "        max_iter: a maximum number of iterations\n",
        "        eps: a tolerance value\n",
        "        record: a flag for recording optimization history\n",
        "    \"\"\"\n",
        "    self.Lambda = Lambda\n",
        "    self.nu = {}\n",
        "    super().__init__(alpha, max_iter, eps, record)\n",
        "\n",
        "  def _deltas(self, grads, key):\n",
        "    \"\"\"\n",
        "    Computes the deltas based on the gradients\n",
        "    Arguments:\n",
        "        grads: a list containing the current gradients of the parameter\n",
        "        key: a key identifying the type of the parameter\n",
        "    Returns:\n",
        "        The list containing the deltas of the parameter\n",
        "    \"\"\"\n",
        "    # Initialize the sums of squared partial derivatives\n",
        "    if key not in self.nu:\n",
        "      self.nu[key] = [np.zeros(grad.shape) for grad in grads]\n",
        "\n",
        "    # ToDo: Update the sums of squared partial derivatives (1 point)\n",
        "    self.nu[key] = [nu_prev + np.square(grad) for nu_prev, grad in zip(self.nu[key], grads)]\n",
        "\n",
        "    # ToDo: Compute the deltas (1 point)\n",
        "    deltas = [-self.alpha * grad / np.sqrt(self.Lambda +nu) for grad, nu in zip(grads, self.nu[key])]\n",
        "\n",
        "    # Store the updated deltas\n",
        "    self.last_deltas[key] = deltas\n",
        "\n",
        "    # Return the computed deltas\n",
        "    return deltas"
      ]
    },
    {
      "cell_type": "markdown",
      "metadata": {
        "id": "vyfNQakTVQAw"
      },
      "source": [
        "Test the AdaGrad optimizer in the cell below. Execution of the cell below should yield:\n",
        "\n",
        "W1, W2:\n",
        "\n",
        "[[3.498 1.498]\n",
        "\n",
        " [4.498 6.498]]\n",
        "\n",
        "[[6.498 8.498]\n",
        "\n",
        " [2.498 3.498]\n",
        "\n",
        " [0.498 1.498]]\n",
        "\n",
        "b1, b2:\n",
        "\n",
        "[2.498 7.498]\n",
        "\n",
        "[1.498 0.498 2.498]"
      ]
    },
    {
      "cell_type": "code",
      "execution_count": 4,
      "metadata": {
        "id": "A9QZd62rVQlx",
        "colab": {
          "base_uri": "https://localhost:8080/"
        },
        "outputId": "12d6e717-87bc-4c4f-c883-c23df0d34ba8"
      },
      "outputs": [
        {
          "output_type": "stream",
          "name": "stdout",
          "text": [
            "W1, W2:\n",
            "[[3.498 1.498]\n",
            " [4.498 6.498]]\n",
            "[[6.498 8.498]\n",
            " [2.498 3.498]\n",
            " [0.498 1.498]]\n",
            "b1, b2:\n",
            "[2.498 7.498]\n",
            "[1.498 0.498 2.498]\n"
          ]
        }
      ],
      "source": [
        "# Create matrices containing values of the parameters W1 and W2\n",
        "W1 = np.array([[4, 2],\n",
        "               [5, 7]])\n",
        "W2 = np.array([[7, 9],\n",
        "               [3, 4],\n",
        "               [1, 2]])\n",
        "\n",
        "# Create matrices containing gradients w.r.t. the parameters W1 and W2\n",
        "gradW1 = np.array([[1, 2],\n",
        "                   [2, 1]])\n",
        "gradW2 = np.array([[3, 3],\n",
        "                   [2, 2],\n",
        "                   [1, 1]])\n",
        "\n",
        "# Create vectors containing values of the parameters b1 and b2\n",
        "b1 = np.array([3, 8])\n",
        "b2 = np.array([2, 1, 3])\n",
        "\n",
        "# Create vectors containing gradients w.r.t. the parameters b1 and b2\n",
        "gradb1 = np.array([3, 5])\n",
        "gradb2 = np.array([2, 2, 1])\n",
        "\n",
        "# Run 10 iterations of the AdaGrad optimizer\n",
        "adaGrad = AdaGradOptimizer(.1)\n",
        "for k in range(10):\n",
        "  [W1, W2] = adaGrad.update([W1, W2], [gradW1, gradW2], 'W')\n",
        "  [b1, b2] = adaGrad.update([b1, b2], [gradb1, gradb2], 'b')\n",
        "\n",
        "# Print the results\n",
        "print('W1, W2:')\n",
        "print(np.around(W1, 3))\n",
        "print(np.around(W2, 3))\n",
        "print('b1, b2:')\n",
        "print(np.around(b1, 3))\n",
        "print(np.around(b2, 3))"
      ]
    },
    {
      "cell_type": "markdown",
      "metadata": {
        "id": "8zQQSD7wNneP"
      },
      "source": [
        "## Task 3"
      ]
    },
    {
      "cell_type": "markdown",
      "metadata": {
        "id": "F3F93-ljPzyY"
      },
      "source": [
        "The disadvantage of AdaGrad is that it can experience slow convergence: $\\nu_j$ increases with each iteration which may cause $\\alpha$ to become very small way before the local minimum. RMSProp solves this problem by using exponential moving average of squared partial derivatives of $f(x)$ w.r.t. $x_j$. The update procedure of $x_j$ for RMSProp is:"
      ]
    },
    {
      "cell_type": "markdown",
      "metadata": {
        "id": "c4LgkQVjopN5"
      },
      "source": [
        "$$\\nu_{curr,j}=\\beta\\nu_{prev,j}+(1-\\beta)\\bigg(\\frac{\\partial f}{\\partial x_j}(x_{prev,j})\\bigg)^2,$$\n",
        "\n",
        "$$\\Delta x_{curr,j}=-\\frac{\\alpha}{\\sqrt{\\lambda+\\nu_{curr,j}}}\\frac{\\partial f}{\\partial x_j}(x_{prev,j}),$$\n",
        "\n",
        "$$x_{curr,j}=x_{prev,j}-\\Delta x_{curr,j},$$"
      ]
    },
    {
      "cell_type": "markdown",
      "metadata": {
        "id": "ouuLyhtTUKr0"
      },
      "source": [
        "where $\\beta$ is the weight controlling the importance of the older values of squared partial derivatives. This modification allows to diminish the influence of the past values of squared partial derivatives and avoid slow convergence.\n",
        "\n",
        "The exponential moving average used in RMSProp can be roughly thought of as taking only a certain number of squared partial derivatives into account. However, this analogy works only for parameters having small variations in their partial derivatives [[2](#references)]."
      ]
    },
    {
      "cell_type": "markdown",
      "metadata": {
        "id": "p8FEakW4h85O"
      },
      "source": [
        "**Task:** write your code below the **ToDo** comments in the method **_deltas(grads, key)** according to RMSProp update procedure."
      ]
    },
    {
      "cell_type": "code",
      "execution_count": 5,
      "metadata": {
        "id": "WADJ_pzUi-91"
      },
      "outputs": [],
      "source": [
        "class RMSPropOptimizer(Optimizer):\n",
        "  \"\"\"\n",
        "  RMSProp optimizer\n",
        "  \"\"\"\n",
        "\n",
        "  def __init__(self, alpha, beta, Lambda=1e-8, max_iter=5000, eps=1e-3, record=False):\n",
        "    \"\"\"\n",
        "    Initializes an instance of the gradient descent optimizer with momentum\n",
        "    Arguments:\n",
        "        alpha: a step size\n",
        "        beta: a weight of the exponential moving average\n",
        "        Lambda: a small positive value\n",
        "        max_iter: a maximum number of iterations\n",
        "        eps: a tolerance value\n",
        "        record: a flag for recording optimization history\n",
        "    \"\"\"\n",
        "    self.beta = beta\n",
        "    self.Lambda = Lambda\n",
        "    self.nu = {}\n",
        "    super().__init__(alpha, max_iter, eps, record)\n",
        "\n",
        "  def _deltas(self, grads, key):\n",
        "    \"\"\"\n",
        "    Computes the deltas based on the gradients\n",
        "    Arguments:\n",
        "        grads: a list containing the current gradients of the parameter\n",
        "        key: a key identifying the type of the parameter\n",
        "    Returns:\n",
        "        The list containing the deltas of the parameter\n",
        "    \"\"\"\n",
        "    # Initialize the last deltas\n",
        "    if key not in self.nu:\n",
        "      self.nu[key] = [np.zeros(grad.shape) for grad in grads]\n",
        "\n",
        "    # ToDo: Update the exponential averages of squared partial derivatives (1 point)\n",
        "    self.nu[key] = [self.beta * nu + (1 - self.beta) * np.square(grad) for nu, grad in zip(self.nu[key], grads)]\n",
        "\n",
        "    # ToDo: Compute the deltas (1 point)\n",
        "    deltas = [-self.alpha * grad / np.sqrt(nu + self.Lambda) for grad, nu in zip(grads, self.nu[key])]\n",
        "\n",
        "    # Store the updated deltas\n",
        "    self.last_deltas[key] = deltas\n",
        "\n",
        "    # Return the computed deltas\n",
        "    return deltas"
      ]
    },
    {
      "cell_type": "markdown",
      "metadata": {
        "id": "mlENEE1GXtWD"
      },
      "source": [
        "Test the RMSProp optimizer in the cell below. Execution of the cell below should yield:\n",
        "\n",
        "W1, W2:\n",
        "\n",
        "[[2.93 0.93]\n",
        "\n",
        " [3.93 5.93]]\n",
        "\n",
        "[[ 5.93  7.93]\n",
        "\n",
        " [ 1.93  2.93]\n",
        "\n",
        " [-0.07  0.93]]\n",
        "\n",
        "b1, b2:\n",
        "\n",
        "[1.93 6.93]\n",
        "\n",
        "[ 0.93 -0.07  1.93]"
      ]
    },
    {
      "cell_type": "code",
      "execution_count": 6,
      "metadata": {
        "id": "kkNvwJpQXw38",
        "colab": {
          "base_uri": "https://localhost:8080/"
        },
        "outputId": "69d05001-e40a-4d13-835f-607db24954b6"
      },
      "outputs": [
        {
          "output_type": "stream",
          "name": "stdout",
          "text": [
            "W1, W2:\n",
            "[[2.93 0.93]\n",
            " [3.93 5.93]]\n",
            "[[ 5.93  7.93]\n",
            " [ 1.93  2.93]\n",
            " [-0.07  0.93]]\n",
            "b1, b2:\n",
            "[1.93 6.93]\n",
            "[ 0.93 -0.07  1.93]\n"
          ]
        }
      ],
      "source": [
        "# Create matrices containing values of the parameters W1 and W2\n",
        "W1 = np.array([[4, 2],\n",
        "               [5, 7]])\n",
        "W2 = np.array([[7, 9],\n",
        "               [3, 4],\n",
        "               [1, 2]])\n",
        "\n",
        "# Create matrices containing gradients w.r.t. the parameters W1 and W2\n",
        "gradW1 = np.array([[1, 2],\n",
        "                   [2, 1]])\n",
        "gradW2 = np.array([[3, 3],\n",
        "                   [2, 2],\n",
        "                   [1, 1]])\n",
        "\n",
        "# Create vectors containing values of the parameters b1 and b2\n",
        "b1 = np.array([3, 8])\n",
        "b2 = np.array([2, 1, 3])\n",
        "\n",
        "# Create vectors containing gradients w.r.t. the parameters b1 and b2\n",
        "gradb1 = np.array([3, 5])\n",
        "gradb2 = np.array([2, 2, 1])\n",
        "\n",
        "# Run 10 iterations of the RMSProp optimizer\n",
        "rmsProp = RMSPropOptimizer(.1, .5)\n",
        "for k in range(10):\n",
        "  [W1, W2] = rmsProp.update([W1, W2], [gradW1, gradW2], 'W')\n",
        "  [b1, b2] = rmsProp.update([b1, b2], [gradb1, gradb2], 'b')\n",
        "\n",
        "# Print the results\n",
        "print('W1, W2:')\n",
        "print(np.around(W1, 3))\n",
        "print(np.around(W2, 3))\n",
        "print('b1, b2:')\n",
        "print(np.around(b1, 3))\n",
        "print(np.around(b2, 3))"
      ]
    },
    {
      "cell_type": "markdown",
      "metadata": {
        "id": "PZ32AWm7iFJq"
      },
      "source": [
        "## Task 4"
      ]
    },
    {
      "cell_type": "markdown",
      "metadata": {
        "id": "NSCXOtJYLVC7"
      },
      "source": [
        "Now let us evaluate AdaGrad and RMSProp on the following optimization problem:"
      ]
    },
    {
      "cell_type": "markdown",
      "metadata": {
        "id": "ibsCgRpfqpMd"
      },
      "source": [
        "$$\\min_xf(x)=(x_1^2+x_2-11)^2+(x_1+x_2^2-7)^2,$$\n",
        "\n"
      ]
    },
    {
      "cell_type": "markdown",
      "metadata": {
        "id": "68veRbEdL-1E"
      },
      "source": [
        "where $x\\in\\mathbb{R}^2$ is a vector of decision variables, and $f(x)$ is the objective function."
      ]
    },
    {
      "cell_type": "markdown",
      "metadata": {
        "id": "PTaKpKecLsH1"
      },
      "source": [
        "**Task:** write your code below the **ToDo** comments in functions **f(x)** and **dfdx(x)** computing function $f(x)$ and its gradient $\\nabla_x f(x)$ respectvely."
      ]
    },
    {
      "cell_type": "code",
      "execution_count": 7,
      "metadata": {
        "id": "U36rPWfTqbz3"
      },
      "outputs": [],
      "source": [
        "import matplotlib.pyplot as plt\n",
        "from matplotlib import ticker, cm\n",
        "\n",
        "def f(x):\n",
        "  # ToDo: Compute the function (1 point)\n",
        "  x1 = x[0]\n",
        "  x2 = x[1]\n",
        "  term1 = np.square(x1) + np.square(x2) - 11\n",
        "  term2 = x1 + np.square(x2) - 7\n",
        "  return np.square(term1) + np.square(term2)\n",
        "\n",
        "def dfdx(x):\n",
        "  # ToDo: Compute the gradient (1 point)\n",
        "  x1 = x[0]\n",
        "  x2 = x[1]\n",
        "  dfdx1 = 4*x1*(x1**2 + x2 - 11) + 2*(x1 + x2**2 - 7)\n",
        "  dfdx2 = 2*(x1**2 + x2 - 11) + 4*x2*(x1 + x2**2 - 7)\n",
        "  return np.array([dfdx1, dfdx2])"
      ]
    },
    {
      "cell_type": "markdown",
      "metadata": {
        "id": "HJVlM9b2ZaYo"
      },
      "source": [
        "Run the cell below to solve the optimization problem. Solutions of AdaGrad and RMSProp will differ: AdaGrad attains the \"upper\" local minimum, and RMSProp attains the \"lower\" local minimum."
      ]
    },
    {
      "cell_type": "code",
      "execution_count": 8,
      "metadata": {
        "id": "psf2FylJZatm",
        "colab": {
          "base_uri": "https://localhost:8080/",
          "height": 701
        },
        "outputId": "ba3fb3ab-ecca-4e47-e778-f4af7e525ff0"
      },
      "outputs": [
        {
          "output_type": "stream",
          "name": "stdout",
          "text": [
            "Iterations by AdaGrad:  393\n",
            "Iterations by RMSProp:  98\n"
          ]
        },
        {
          "output_type": "display_data",
          "data": {
            "text/plain": [
              "<Figure size 800x800 with 2 Axes>"
            ],
            "image/png": "[encoded data removed]"
          },
          "metadata": {}
        }
      ],
      "source": [
        "def optimize(x0, func_grad, optimizer):\n",
        "  \"\"\"\n",
        "  Optimizes a function using the specified optimizer\n",
        "  Arguments:\n",
        "      x0: an initial point\n",
        "      func_grad: a gradient of the function\n",
        "      optimizer: an optimizer\n",
        "  Returns:\n",
        "      The local minimum of a function\n",
        "  \"\"\"\n",
        "  # Initialize the current point\n",
        "  x = x0\n",
        "\n",
        "  # Run the optimizer until the termination criteria is satisfied\n",
        "  while optimizer.run():\n",
        "    # Update the current point\n",
        "    x = optimizer.update(x, func_grad(x))\n",
        "\n",
        "  # Return the current point\n",
        "  return x\n",
        "\n",
        "# Create the optimizers\n",
        "adaGrad = AdaGradOptimizer(1.5, 1e-8, 500, 1e-4, True)\n",
        "rmsProp = RMSPropOptimizer(0.2, 0.91, 1e-8, 500, 1e-4, True)\n",
        "\n",
        "x0 = np.array([10, 5])\n",
        "xopt1 = np.array([3.00,  2.00])\n",
        "xopt2 = np.array([3.58, -1.84])\n",
        "\n",
        "# Run the optimizers\n",
        "xopt_adaGrad = optimize(x0, dfdx, adaGrad)\n",
        "xopt_rmsProp = optimize(x0, dfdx, rmsProp)\n",
        "\n",
        "# Print the number of iterations\n",
        "print('Iterations by AdaGrad: ', adaGrad.get_iter())\n",
        "print('Iterations by RMSProp: ', rmsProp.get_iter())\n",
        "\n",
        "# Retrieve the optimization history\n",
        "adaGrad_history = adaGrad.get_history()\n",
        "rmsProp_history = rmsProp.get_history()\n",
        "\n",
        "# Create the mesh grid\n",
        "x = np.linspace(1, 11, 100)\n",
        "y = np.linspace(-5, 6, 100)\n",
        "xx, yy = np.meshgrid(x, y)\n",
        "\n",
        "# Evaluate the function\n",
        "z = f(np.array([xx, yy]))\n",
        "\n",
        "# Apply log10\n",
        "z = np.log10(z)\n",
        "\n",
        "# Set figure size\n",
        "plt.figure(figsize=(8, 8))\n",
        "\n",
        "# Plot the function\n",
        "cp = plt.contourf(x, y, z, cmap=cm.Blues)\n",
        "plt.colorbar(cp)\n",
        "\n",
        "# Plot the optimization history\n",
        "adaGrad_plot, = plt.plot(adaGrad_history[:,0], adaGrad_history[:,1], 'y-')\n",
        "rmsProp_plot, = plt.plot(rmsProp_history[:,0], rmsProp_history[:,1], 'm-')\n",
        "\n",
        "# Plot the optimum and guess points\n",
        "x0_plot, = plt.plot(x0[0], x0[1], 'ro', markersize=8)\n",
        "xopt1_plot, = plt.plot(xopt1[0], xopt1[1], 'g*', markersize=14)\n",
        "xopt2_plot, = plt.plot(xopt2[0], xopt2[1], 'g*', markersize=14)\n",
        "\n",
        "# Insert legend and set the scaling mode\n",
        "plt.legend([adaGrad_plot, rmsProp_plot, x0_plot, xopt1_plot, xopt2_plot],\n",
        "           ['AdaGrad', 'RMSProp', 'Guess', 'Optimum'])\n",
        "plt.axis('scaled')\n",
        "\n",
        "# Show the plot\n",
        "plt.show()"
      ]
    },
    {
      "cell_type": "markdown",
      "metadata": {
        "id": "Lx7ZBIV61Pdd"
      },
      "source": [
        "## Task 5"
      ]
    },
    {
      "cell_type": "markdown",
      "metadata": {
        "id": "xxpqckRD4QY8"
      },
      "source": [
        "In this task you will modify the method **fit(x, y)** of the class **NLLSestimator** from the **Practice 6** to use AdaGrad and RMSProp instead of the BFGS algorithm."
      ]
    },
    {
      "cell_type": "markdown",
      "metadata": {
        "id": "w-y27rrHPQ9j"
      },
      "source": [
        "**Task:** write your code below the **ToDo** comment in the method **fit(x, y)** computing optimal parameters **a** and **b** using the attribute **self.optimizer**."
      ]
    },
    {
      "cell_type": "code",
      "execution_count": 9,
      "metadata": {
        "id": "VtePvrtNE_vW"
      },
      "outputs": [],
      "source": [
        "import numpy as np\n",
        "\n",
        "def P(x, a):\n",
        "  \"\"\"\n",
        "  Computes P(x, a)\n",
        "  Arguments:\n",
        "      x: a scalar argument\n",
        "      a: a vector of coefficients of P(x, a)\n",
        "  Returns:\n",
        "      P(x, a)\n",
        "  \"\"\"\n",
        "  return np.sum([a[j - 1] * x ** (j - 1) for j in range(1, a.size + 1)])\n",
        "\n",
        "def Q(x, b):\n",
        "  \"\"\"\n",
        "  Computes Q(x, b)\n",
        "  Arguments:\n",
        "      x: a scalar argument\n",
        "      b: a vector of coefficients of Q(x, b)\n",
        "  Returns:\n",
        "      Q(x, b)\n",
        "  \"\"\"\n",
        "  return 1 + np.sum([b[k - 1] * x ** k for k in range(1, b.size + 1)])\n",
        "\n",
        "def f_hat(x, a, b):\n",
        "  \"\"\"\n",
        "  Computes f_hat(x, a, b)\n",
        "  Arguments:\n",
        "      x: a scalar argument\n",
        "      a: a vector of coefficients of P(x, a)\n",
        "      b: a vector of coefficients of Q(x, b)\n",
        "  Returns:\n",
        "      f_hat(x, a, b)\n",
        "  \"\"\"\n",
        "  return P(x, a) / Q(x, b)\n",
        "\n",
        "def J(x, a, b, y):\n",
        "  \"\"\"\n",
        "  Computes J(x, a, b, y)\n",
        "  Arguments:\n",
        "      x: a vector of inputs\n",
        "      a: a vector of coefficients of P(x, a)\n",
        "      b: a vector of coefficients of Q(x, b)\n",
        "      y: a vector of outputs\n",
        "  Returns:\n",
        "      J(x, a, b, y)\n",
        "  \"\"\"\n",
        "  return .5 * np.sum([(y_i - f_hat(x_i, a, b)) ** 2 for x_i, y_i in zip(x, y)])\n",
        "\n",
        "def dJda_l(x, a, b, y, l):\n",
        "  \"\"\"\n",
        "  Computes the partial derivative of J(x, a, b, y) w.r.t. a_l\n",
        "  Arguments:\n",
        "      x: a scalar argument\n",
        "      a: a vector of coefficients of P(x, a)\n",
        "      b: a vector of coefficients of Q(x, b)\n",
        "      y: a scalar output\n",
        "      l: an index of the element of the vector a\n",
        "  Returns:\n",
        "      Partial derivative of J(x, a, b, y) w.r.t. a_l\n",
        "  \"\"\"\n",
        "  return np.sum([(y_i - f_hat(x_i, a, b)) * (-x_i ** (l - 1) / Q(x_i, b)) for x_i, y_i in zip(x, y)])\n",
        "\n",
        "def dJdb_l(x, a, b, y, l):\n",
        "  \"\"\"\n",
        "  Computes the partial derivative of J(x, a, b, y) w.r.t. b_l\n",
        "  Arguments:\n",
        "      x: a scalar argument\n",
        "      a: a vector of coefficients of P(x, a)\n",
        "      b: a vector of coefficients of Q(x, b)\n",
        "      y: a scalar output\n",
        "      l: an index of the element of the vector b\n",
        "  Returns:\n",
        "      Partial derivative of J(x, a, b, y) w.r.t. b_l\n",
        "  \"\"\"\n",
        "  return np.sum([(y_i - f_hat(x_i, a, b)) * (x_i ** l * f_hat(x_i, a, b) / Q(x_i, b)) for x_i, y_i in zip(x, y)])\n",
        "\n",
        "def dJda(x, a, b, y):\n",
        "  \"\"\"\n",
        "  Computes the gradient of J(x, a, b, y) w.r.t. the vector a\n",
        "  Arguments:\n",
        "      x: a scalar argument\n",
        "      a: a vector of coefficients of P(x, a)\n",
        "      b: a vector of coefficients of Q(x, b)\n",
        "      y: a scalar output\n",
        "  Returns:\n",
        "      Gradient of J(x, a, b, y) w.r.t. the vector a\n",
        "  \"\"\"\n",
        "  return np.array([dJda_l(x, a, b, y, l) for l in range(1, a.size + 1)])\n",
        "\n",
        "def dJdb(x, a, b, y):\n",
        "  \"\"\"\n",
        "  Computes the gradient of J(x, a, b, y) w.r.t. the vector b\n",
        "  Arguments:\n",
        "      x: a scalar argument\n",
        "      a: a vector of coefficients of P(x, a)\n",
        "      b: a vector of coefficients of Q(x, b)\n",
        "      y: a scalar output\n",
        "  Returns:\n",
        "      Gradient of J(x, a, b, y) w.r.t. the vector b\n",
        "  \"\"\"\n",
        "  return np.array([dJdb_l(x, a, b, y, l) for l in range(1, b.size + 1)])\n",
        "\n",
        "  from scipy.optimize import minimize\n",
        "\n",
        "class NLLSestimator:\n",
        "  \"\"\"\n",
        "  Nonlinear least squares estimator\n",
        "  \"\"\"\n",
        "\n",
        "  def __init__(self, p, q, optimizer):\n",
        "    \"\"\"\n",
        "    Initializes a nonlinear least squares estimator\n",
        "    Arguments:\n",
        "        p: a degree of the polynomial P(x, a)\n",
        "        q: a degree of the polynomial Q(x, b)\n",
        "        optimizer: an optimizer instance\n",
        "    \"\"\"\n",
        "    self.p = p\n",
        "    self.q = q\n",
        "    self.optimizer = optimizer\n",
        "\n",
        "  def fit(self, x, y):\n",
        "    \"\"\"\n",
        "    Estimates the parameters w of the model using the provided optimizer self.optimizer\n",
        "    Arguments:\n",
        "        x: a vector of inputs\n",
        "        y: a vector of outputs\n",
        "    \"\"\"\n",
        "    # Initialize the parameters\n",
        "    a = np.zeros(self.p)\n",
        "    b = np.zeros(self.q)\n",
        "\n",
        "    # ToDo: Use the optimizer to compute a and b (2 points)\n",
        "\n",
        "    def func_grad(params):\n",
        "      a, b = params[:self.p], params[self.p:]\n",
        "      return np.concatenate((dJda(x, a, b, y), dJdb(x, a, b, y)))\n",
        "\n",
        "    params = np.concatenate((a, b))\n",
        "    params_optimized = optimize(params, func_grad, self.optimizer)\n",
        "\n",
        "    a = params_optimized[:self.p]\n",
        "    b = params_optimized[self.p:]\n",
        "    # Store the parameters\n",
        "    self.a = a\n",
        "    self.b = b\n",
        "\n",
        "  def predict(self, x):\n",
        "    \"\"\"\n",
        "    Predicts the outputs based on the input\n",
        "    Arguments:\n",
        "        x: a vector of inputs\n",
        "    Returns:\n",
        "        The vector of outputs\n",
        "    \"\"\"\n",
        "    # Return the outputs\n",
        "    return np.array([f_hat(x_i, self.a, self.b) for x_i in x])"
      ]
    },
    {
      "cell_type": "markdown",
      "metadata": {
        "id": "AuRsrXUCQ9V2"
      },
      "source": [
        "Run the cell below to compare AdaGrad and RMSProp on a nonlinear least-squares optimization problem. Both optimizers should be able to fit the nonlinear function such that AdaGrad bounds the initial curve from above and RMSProp bounds it from below. The objective function value for AdaGrad and RMSProp should be $0.172$ and $0.396$, respectively."
      ]
    },
    {
      "cell_type": "code",
      "execution_count": 10,
      "metadata": {
        "id": "70L876iyG3Vz",
        "colab": {
          "base_uri": "https://localhost:8080/",
          "height": 557
        },
        "outputId": "b25bd8a2-0665-4be8-bb31-e2c54ea391f9"
      },
      "outputs": [
        {
          "output_type": "display_data",
          "data": {
            "text/plain": [
              "<Figure size 800x600 with 1 Axes>"
            ],
            "image/png": "[encoded data removed]"
          },
          "metadata": {}
        },
        {
          "output_type": "stream",
          "name": "stdout",
          "text": [
            "Objective function value for AdaGrad:  0.172\n",
            "Objective function value for RMSProp:  0.35\n"
          ]
        }
      ],
      "source": [
        "import matplotlib.pyplot as plt\n",
        "\n",
        "def f(x):\n",
        "  \"\"\"\n",
        "  Original function f(x)\n",
        "  Arguments:\n",
        "      x: a vector of inputs\n",
        "  Returns:\n",
        "      The vector of outputs\n",
        "  \"\"\"\n",
        "  return 5 * (1 - np.exp(-x / (4.7e+3 * 33e-6)))\n",
        "\n",
        "# Define the number of samples\n",
        "n = 10\n",
        "\n",
        "# Define the sampling boundaries\n",
        "x1 = 0.00\n",
        "x2 = 1.25\n",
        "\n",
        "# Define the noise parameters\n",
        "mean = 0\n",
        "std = .25\n",
        "\n",
        "# Ensure reproducibility by making random number generator produce the same\n",
        "# values at new executions\n",
        "np.random.seed(42)\n",
        "\n",
        "# Generate the initial and the noisy samples\n",
        "x = np.linspace(x1, x2, n)\n",
        "y_initial = f(x)\n",
        "y = y_initial + np.random.normal(mean, std, n)\n",
        "\n",
        "# Create and fit the nonlinear least squares estimator with AdaGrad\n",
        "nlls_adaGrad = NLLSestimator(3, 2, AdaGradOptimizer(8, max_iter=1500, eps=1e-3))\n",
        "nlls_adaGrad.fit(x, y)\n",
        "\n",
        "# Create and fit the nonlinear least squares estimator with RMSProp\n",
        "nlls_rmsProp = NLLSestimator(3, 2, RMSPropOptimizer(.4, .6, max_iter=1500, eps=1e-3))\n",
        "nlls_rmsProp.fit(x, y)\n",
        "\n",
        "# Predict the outputs using both estimators\n",
        "y_adaGrad = nlls_adaGrad.predict(x)\n",
        "y_rmsProp = nlls_rmsProp.predict(x)\n",
        "\n",
        "# Plot the results\n",
        "plt.figure(figsize=(8, 6))\n",
        "plt.plot(x, y, 'y.')\n",
        "plt.plot(x, y_initial, 'm-')\n",
        "plt.plot(x, y_adaGrad, 'r-')\n",
        "plt.plot(x, y_rmsProp, 'g-')\n",
        "plt.legend(['Dataset', 'Initial Curve', 'NLLS with AdaGrad', 'NLLS with RMSProp'])\n",
        "plt.grid()\n",
        "plt.show()\n",
        "\n",
        "# Print the objective function value\n",
        "# for both AdaGrad and RMSProp\n",
        "J_adaGrad = J(x, nlls_adaGrad.a, nlls_adaGrad.b, y)\n",
        "J_rmsProp = J(x, nlls_rmsProp.a, nlls_rmsProp.b, y)\n",
        "print('Objective function value for AdaGrad: ', np.around(J_adaGrad, 3))\n",
        "print('Objective function value for RMSProp: ', np.around(J_rmsProp, 3))"
      ]
    },
    {
      "cell_type": "markdown",
      "metadata": {
        "id": "CJSn6KX3VP4_"
      },
      "source": [
        "<a name=\"references\"></a>\n",
        "\n",
        "# References"
      ]
    },
    {
      "cell_type": "markdown",
      "metadata": {
        "id": "BdLzesmdVR1v"
      },
      "source": [
        "1. https://towardsdatascience.com/deep-learning-optimizers-436171c9e23f#:~:text=2.%20Adagrad%20(Adaptive%20Gradient%20Algorithm)\n",
        "2. https://en.wikipedia.org/wiki/Moving_average#:~:text=with%20decreasing%20terms.-,Approximating%20the%20EMA%20with%20a%20limited%20number%20of%20terms,-%5Bedit%5D\n",
        "\n"
      ]
    }
  ],
  "metadata": {
    "colab": {
      "provenance": []
    },
    "kernelspec": {
      "display_name": "Python 3 (ipykernel)",
      "language": "python",
      "name": "python3"
    },
    "language_info": {
      "codemirror_mode": {
        "name": "ipython",
        "version": 3
      },
      "file_extension": ".py",
      "mimetype": "text/x-python",
      "name": "python",
      "nbconvert_exporter": "python",
      "pygments_lexer": "ipython3",
      "version": "3.9.16"
    }
  },
  "nbformat": 4,
  "nbformat_minor": 0
}